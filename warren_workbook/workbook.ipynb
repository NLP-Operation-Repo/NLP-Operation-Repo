{
 "cells": [
  {
   "cell_type": "code",
   "execution_count": 26,
   "id": "cdc34fce",
   "metadata": {},
   "outputs": [],
   "source": [
    "import pandas as pd\n",
    "import numpy as np\n",
    "from env import github_token, github_username\n",
    "import os\n",
    "import json\n",
    "from typing import Dict, List, Optional, Union, cast\n",
    "import requests\n",
    "\n",
    "import nltk\n",
    "import unicodedata\n",
    "import re\n",
    "from nltk.corpus import stopwords\n",
    "from requests import get\n",
    "from bs4 import BeautifulSoup\n",
    "import os\n",
    "\n",
    "import prepare as p\n",
    "\n",
    "from wordcloud import WordCloud\n",
    "import matplotlib.pyplot as plt\n",
    "import seaborn as sns\n"
   ]
  },
  {
   "cell_type": "code",
   "execution_count": 27,
   "id": "d98890ea",
   "metadata": {},
   "outputs": [],
   "source": [
    "df = pd.read_json('data2.json')"
   ]
  },
  {
   "cell_type": "code",
   "execution_count": 3,
   "id": "09df9a47",
   "metadata": {
    "scrolled": true
   },
   "outputs": [
    {
     "data": {
      "text/html": [
       "<div>\n",
       "<style scoped>\n",
       "    .dataframe tbody tr th:only-of-type {\n",
       "        vertical-align: middle;\n",
       "    }\n",
       "\n",
       "    .dataframe tbody tr th {\n",
       "        vertical-align: top;\n",
       "    }\n",
       "\n",
       "    .dataframe thead th {\n",
       "        text-align: right;\n",
       "    }\n",
       "</style>\n",
       "<table border=\"1\" class=\"dataframe\">\n",
       "  <thead>\n",
       "    <tr style=\"text-align: right;\">\n",
       "      <th></th>\n",
       "      <th>repo</th>\n",
       "      <th>language</th>\n",
       "      <th>readme_contents</th>\n",
       "    </tr>\n",
       "  </thead>\n",
       "  <tbody>\n",
       "    <tr>\n",
       "      <th>0</th>\n",
       "      <td>steven2358/awesome-generative-ai</td>\n",
       "      <td>None</td>\n",
       "      <td># Awesome Generative AI [![Awesome](https://aw...</td>\n",
       "    </tr>\n",
       "    <tr>\n",
       "      <th>1</th>\n",
       "      <td>awesome-selfhosted/awesome-selfhosted</td>\n",
       "      <td>Makefile</td>\n",
       "      <td># Awesome-Selfhosted\\n\\n[![Awesome](_static/aw...</td>\n",
       "    </tr>\n",
       "    <tr>\n",
       "      <th>2</th>\n",
       "      <td>binhnguyennus/awesome-scalability</td>\n",
       "      <td>None</td>\n",
       "      <td>[![Logo](/logo.png)](http://awesome-scalabilit...</td>\n",
       "    </tr>\n",
       "    <tr>\n",
       "      <th>3</th>\n",
       "      <td>modelscope/modelscope</td>\n",
       "      <td>Python</td>\n",
       "      <td>\\n&lt;p align=\"center\"&gt;\\n    &lt;br&gt;\\n    &lt;img src=\"...</td>\n",
       "    </tr>\n",
       "    <tr>\n",
       "      <th>4</th>\n",
       "      <td>makeplane/plane</td>\n",
       "      <td>TypeScript</td>\n",
       "      <td>&lt;br /&gt;&lt;br /&gt;\\n\\n&lt;p align=\"center\"&gt;\\n&lt;a href=\"h...</td>\n",
       "    </tr>\n",
       "  </tbody>\n",
       "</table>\n",
       "</div>"
      ],
      "text/plain": [
       "                                    repo    language  \\\n",
       "0       steven2358/awesome-generative-ai        None   \n",
       "1  awesome-selfhosted/awesome-selfhosted    Makefile   \n",
       "2      binhnguyennus/awesome-scalability        None   \n",
       "3                  modelscope/modelscope      Python   \n",
       "4                        makeplane/plane  TypeScript   \n",
       "\n",
       "                                     readme_contents  \n",
       "0  # Awesome Generative AI [![Awesome](https://aw...  \n",
       "1  # Awesome-Selfhosted\\n\\n[![Awesome](_static/aw...  \n",
       "2  [![Logo](/logo.png)](http://awesome-scalabilit...  \n",
       "3  \\n<p align=\"center\">\\n    <br>\\n    <img src=\"...  \n",
       "4  <br /><br />\\n\\n<p align=\"center\">\\n<a href=\"h...  "
      ]
     },
     "execution_count": 3,
     "metadata": {},
     "output_type": "execute_result"
    }
   ],
   "source": [
    "df.head()"
   ]
  },
  {
   "cell_type": "code",
   "execution_count": 9,
   "id": "f5fc7e73",
   "metadata": {},
   "outputs": [
    {
     "data": {
      "text/plain": [
       "(127, 4)"
      ]
     },
     "execution_count": 9,
     "metadata": {},
     "output_type": "execute_result"
    }
   ],
   "source": [
    "df.shape"
   ]
  },
  {
   "cell_type": "code",
   "execution_count": 28,
   "id": "9bd4670b",
   "metadata": {},
   "outputs": [],
   "source": [
    "df = p.final_df(df)"
   ]
  },
  {
   "cell_type": "code",
   "execution_count": 29,
   "id": "bc01a414",
   "metadata": {},
   "outputs": [
    {
     "data": {
      "text/html": [
       "<div>\n",
       "<style scoped>\n",
       "    .dataframe tbody tr th:only-of-type {\n",
       "        vertical-align: middle;\n",
       "    }\n",
       "\n",
       "    .dataframe tbody tr th {\n",
       "        vertical-align: top;\n",
       "    }\n",
       "\n",
       "    .dataframe thead th {\n",
       "        text-align: right;\n",
       "    }\n",
       "</style>\n",
       "<table border=\"1\" class=\"dataframe\">\n",
       "  <thead>\n",
       "    <tr style=\"text-align: right;\">\n",
       "      <th></th>\n",
       "      <th>repo</th>\n",
       "      <th>language</th>\n",
       "      <th>readme_contents</th>\n",
       "      <th>clean_text</th>\n",
       "      <th>stem</th>\n",
       "      <th>lemmatize</th>\n",
       "      <th>is_python</th>\n",
       "    </tr>\n",
       "  </thead>\n",
       "  <tbody>\n",
       "    <tr>\n",
       "      <th>0</th>\n",
       "      <td>jtleek/datasharing</td>\n",
       "      <td>None</td>\n",
       "      <td>How to share data with a statistician\\n=======...</td>\n",
       "      <td>share data statistician guide anyone needs sha...</td>\n",
       "      <td>share data statistician guid anyon need share ...</td>\n",
       "      <td>share data statistician guide anyone need shar...</td>\n",
       "      <td>0</td>\n",
       "    </tr>\n",
       "    <tr>\n",
       "      <th>1</th>\n",
       "      <td>octocat/Spoon-Knife</td>\n",
       "      <td>HTML</td>\n",
       "      <td>### Well hello there!\\n\\nThis repository is me...</td>\n",
       "      <td>well hello repository meant provide example fo...</td>\n",
       "      <td>well hello repositori meant provid exampl fork...</td>\n",
       "      <td>well hello repository meant provide example fo...</td>\n",
       "      <td>0</td>\n",
       "    </tr>\n",
       "    <tr>\n",
       "      <th>2</th>\n",
       "      <td>SmartThingsCommunity/SmartThingsPublic</td>\n",
       "      <td>Groovy</td>\n",
       "      <td># Welcome to the SmartThings Public GitHub Rep...</td>\n",
       "      <td>welcome smartthings public github repo repo co...</td>\n",
       "      <td>welcom smartth public github repo repo contain...</td>\n",
       "      <td>welcome smartthings public github repo repo co...</td>\n",
       "      <td>0</td>\n",
       "    </tr>\n",
       "    <tr>\n",
       "      <th>3</th>\n",
       "      <td>tensorflow/tensorflow</td>\n",
       "      <td>C++</td>\n",
       "      <td>&lt;div align=\"center\"&gt;\\n  &lt;img src=\"https://www....</td>\n",
       "      <td>div aligncenter img srchttpswwwtensorfloworgim...</td>\n",
       "      <td>div aligncent img srchttpswwwtensorfloworgimag...</td>\n",
       "      <td>div aligncenter img srchttpswwwtensorfloworgim...</td>\n",
       "      <td>0</td>\n",
       "    </tr>\n",
       "    <tr>\n",
       "      <th>4</th>\n",
       "      <td>github/gitignore</td>\n",
       "      <td>None</td>\n",
       "      <td># A collection of `.gitignore` templates\\n\\nTh...</td>\n",
       "      <td>collection gitignore templates githubs collect...</td>\n",
       "      <td>collect gitignor templat github collect gitign...</td>\n",
       "      <td>collection gitignore template githubs collecti...</td>\n",
       "      <td>0</td>\n",
       "    </tr>\n",
       "  </tbody>\n",
       "</table>\n",
       "</div>"
      ],
      "text/plain": [
       "                                     repo language  \\\n",
       "0                      jtleek/datasharing     None   \n",
       "1                     octocat/Spoon-Knife     HTML   \n",
       "2  SmartThingsCommunity/SmartThingsPublic   Groovy   \n",
       "3                   tensorflow/tensorflow      C++   \n",
       "4                        github/gitignore     None   \n",
       "\n",
       "                                     readme_contents  \\\n",
       "0  How to share data with a statistician\\n=======...   \n",
       "1  ### Well hello there!\\n\\nThis repository is me...   \n",
       "2  # Welcome to the SmartThings Public GitHub Rep...   \n",
       "3  <div align=\"center\">\\n  <img src=\"https://www....   \n",
       "4  # A collection of `.gitignore` templates\\n\\nTh...   \n",
       "\n",
       "                                          clean_text  \\\n",
       "0  share data statistician guide anyone needs sha...   \n",
       "1  well hello repository meant provide example fo...   \n",
       "2  welcome smartthings public github repo repo co...   \n",
       "3  div aligncenter img srchttpswwwtensorfloworgim...   \n",
       "4  collection gitignore templates githubs collect...   \n",
       "\n",
       "                                                stem  \\\n",
       "0  share data statistician guid anyon need share ...   \n",
       "1  well hello repositori meant provid exampl fork...   \n",
       "2  welcom smartth public github repo repo contain...   \n",
       "3  div aligncent img srchttpswwwtensorfloworgimag...   \n",
       "4  collect gitignor templat github collect gitign...   \n",
       "\n",
       "                                           lemmatize  is_python  \n",
       "0  share data statistician guide anyone need shar...          0  \n",
       "1  well hello repository meant provide example fo...          0  \n",
       "2  welcome smartthings public github repo repo co...          0  \n",
       "3  div aligncenter img srchttpswwwtensorfloworgim...          0  \n",
       "4  collection gitignore template githubs collecti...          0  "
      ]
     },
     "execution_count": 29,
     "metadata": {},
     "output_type": "execute_result"
    }
   ],
   "source": [
    "df.head()"
   ]
  },
  {
   "cell_type": "code",
   "execution_count": 30,
   "id": "1cbc96b7",
   "metadata": {},
   "outputs": [],
   "source": [
    "python_words = ' '.join(df[df.is_python == 1]['stem']).split()"
   ]
  },
  {
   "cell_type": "code",
   "execution_count": null,
   "id": "6d3e39a3",
   "metadata": {},
   "outputs": [],
   "source": [
    "other_words = ' '"
   ]
  },
  {
   "cell_type": "code",
   "execution_count": 32,
   "id": "709575f9",
   "metadata": {},
   "outputs": [],
   "source": [
    "python_freq = pd.Series(python_words).value_counts()"
   ]
  },
  {
   "cell_type": "code",
   "execution_count": 34,
   "id": "f61450c0",
   "metadata": {},
   "outputs": [
    {
     "data": {
      "text/plain": [
       "ye         1742\n",
       "unknown     915\n",
       "python      615\n",
       "apikey      600\n",
       "'           463\n",
       "dtype: int64"
      ]
     },
     "execution_count": 34,
     "metadata": {},
     "output_type": "execute_result"
    }
   ],
   "source": [
    "python_freq.head()"
   ]
  },
  {
   "cell_type": "code",
   "execution_count": null,
   "id": "4d3c404d",
   "metadata": {},
   "outputs": [],
   "source": []
  }
 ],
 "metadata": {
  "kernelspec": {
   "display_name": "Python 3 (ipykernel)",
   "language": "python",
   "name": "python3"
  },
  "language_info": {
   "codemirror_mode": {
    "name": "ipython",
    "version": 3
   },
   "file_extension": ".py",
   "mimetype": "text/x-python",
   "name": "python",
   "nbconvert_exporter": "python",
   "pygments_lexer": "ipython3",
   "version": "3.10.9"
  }
 },
 "nbformat": 4,
 "nbformat_minor": 5
}
