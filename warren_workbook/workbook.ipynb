{
 "cells": [
  {
   "cell_type": "code",
   "execution_count": 6,
   "id": "cdc34fce",
   "metadata": {},
   "outputs": [],
   "source": [
    "import pandas as pd\n",
    "import numpy as np\n",
    "from env import github_token, github_username\n",
    "import os\n",
    "import json\n",
    "from typing import Dict, List, Optional, Union, cast\n",
    "import requests"
   ]
  },
  {
   "cell_type": "code",
   "execution_count": 19,
   "id": "d98890ea",
   "metadata": {},
   "outputs": [],
   "source": [
    "df = pd.read_json('data2.json')"
   ]
  },
  {
   "cell_type": "code",
   "execution_count": 20,
   "id": "09df9a47",
   "metadata": {
    "scrolled": true
   },
   "outputs": [
    {
     "data": {
      "text/html": [
       "<div>\n",
       "<style scoped>\n",
       "    .dataframe tbody tr th:only-of-type {\n",
       "        vertical-align: middle;\n",
       "    }\n",
       "\n",
       "    .dataframe tbody tr th {\n",
       "        vertical-align: top;\n",
       "    }\n",
       "\n",
       "    .dataframe thead th {\n",
       "        text-align: right;\n",
       "    }\n",
       "</style>\n",
       "<table border=\"1\" class=\"dataframe\">\n",
       "  <thead>\n",
       "    <tr style=\"text-align: right;\">\n",
       "      <th></th>\n",
       "      <th>repo</th>\n",
       "      <th>language</th>\n",
       "      <th>readme_contents</th>\n",
       "    </tr>\n",
       "  </thead>\n",
       "  <tbody>\n",
       "    <tr>\n",
       "      <th>0</th>\n",
       "      <td>steven2358/awesome-generative-ai</td>\n",
       "      <td>None</td>\n",
       "      <td># Awesome Generative AI [![Awesome](https://aw...</td>\n",
       "    </tr>\n",
       "    <tr>\n",
       "      <th>1</th>\n",
       "      <td>awesome-selfhosted/awesome-selfhosted</td>\n",
       "      <td>Makefile</td>\n",
       "      <td># Awesome-Selfhosted\\n\\n[![Awesome](_static/aw...</td>\n",
       "    </tr>\n",
       "    <tr>\n",
       "      <th>2</th>\n",
       "      <td>binhnguyennus/awesome-scalability</td>\n",
       "      <td>None</td>\n",
       "      <td>[![Logo](/logo.png)](http://awesome-scalabilit...</td>\n",
       "    </tr>\n",
       "    <tr>\n",
       "      <th>3</th>\n",
       "      <td>modelscope/modelscope</td>\n",
       "      <td>Python</td>\n",
       "      <td>\\n&lt;p align=\"center\"&gt;\\n    &lt;br&gt;\\n    &lt;img src=\"...</td>\n",
       "    </tr>\n",
       "    <tr>\n",
       "      <th>4</th>\n",
       "      <td>makeplane/plane</td>\n",
       "      <td>TypeScript</td>\n",
       "      <td>&lt;br /&gt;&lt;br /&gt;\\n\\n&lt;p align=\"center\"&gt;\\n&lt;a href=\"h...</td>\n",
       "    </tr>\n",
       "  </tbody>\n",
       "</table>\n",
       "</div>"
      ],
      "text/plain": [
       "                                    repo    language  \\\n",
       "0       steven2358/awesome-generative-ai        None   \n",
       "1  awesome-selfhosted/awesome-selfhosted    Makefile   \n",
       "2      binhnguyennus/awesome-scalability        None   \n",
       "3                  modelscope/modelscope      Python   \n",
       "4                        makeplane/plane  TypeScript   \n",
       "\n",
       "                                     readme_contents  \n",
       "0  # Awesome Generative AI [![Awesome](https://aw...  \n",
       "1  # Awesome-Selfhosted\\n\\n[![Awesome](_static/aw...  \n",
       "2  [![Logo](/logo.png)](http://awesome-scalabilit...  \n",
       "3  \\n<p align=\"center\">\\n    <br>\\n    <img src=\"...  \n",
       "4  <br /><br />\\n\\n<p align=\"center\">\\n<a href=\"h...  "
      ]
     },
     "execution_count": 20,
     "metadata": {},
     "output_type": "execute_result"
    }
   ],
   "source": [
    "df.head()"
   ]
  },
  {
   "cell_type": "code",
   "execution_count": null,
   "id": "3b2519a1",
   "metadata": {},
   "outputs": [],
   "source": []
  }
 ],
 "metadata": {
  "kernelspec": {
   "display_name": "Python 3 (ipykernel)",
   "language": "python",
   "name": "python3"
  },
  "language_info": {
   "codemirror_mode": {
    "name": "ipython",
    "version": 3
   },
   "file_extension": ".py",
   "mimetype": "text/x-python",
   "name": "python",
   "nbconvert_exporter": "python",
   "pygments_lexer": "ipython3",
   "version": "3.10.9"
  }
 },
 "nbformat": 4,
 "nbformat_minor": 5
}
