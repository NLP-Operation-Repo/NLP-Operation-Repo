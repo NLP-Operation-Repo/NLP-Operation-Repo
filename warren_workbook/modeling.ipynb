{
 "cells": [
  {
   "cell_type": "code",
   "execution_count": 1,
   "id": "c066b205",
   "metadata": {},
   "outputs": [],
   "source": [
    "import pandas as pd\n",
    "import numpy as np\n",
    "\n",
    "\n",
    "from sklearn.model_selection import train_test_split\n",
    "from sklearn.linear_model import LogisticRegression\n",
    "from sklearn.metrics import classification_report, accuracy_score\n",
    "from env import get_db_url\n",
    "import model as m\n",
    "from sklearn.feature_extraction.text import TfidfVectorizer\n",
    "\n",
    "\n",
    "import warnings\n",
    "warnings.filterwarnings('ignore')\n",
    "\n",
    "\n",
    "import sys\n",
    "# allow modules from parent directory to be imported\n",
    "sys.path.append('..')\n",
    "import prepare as p\n",
    "\n"
   ]
  },
  {
   "cell_type": "code",
   "execution_count": 2,
   "id": "7b576499",
   "metadata": {},
   "outputs": [],
   "source": [
    "df = p.prepare_data()"
   ]
  },
  {
   "cell_type": "code",
   "execution_count": 3,
   "id": "b85b5675",
   "metadata": {},
   "outputs": [],
   "source": [
    "train, validate, test = p.split_data()"
   ]
  },
  {
   "cell_type": "code",
   "execution_count": 4,
   "id": "66d559a1",
   "metadata": {},
   "outputs": [],
   "source": [
    "X_train, y_train, X_validate, y_validate, X_test, y_test = p.X_y_split()"
   ]
  },
  {
   "cell_type": "code",
   "execution_count": 5,
   "id": "643ceaeb",
   "metadata": {},
   "outputs": [
    {
     "data": {
      "text/html": [
       "<div>\n",
       "<style scoped>\n",
       "    .dataframe tbody tr th:only-of-type {\n",
       "        vertical-align: middle;\n",
       "    }\n",
       "\n",
       "    .dataframe tbody tr th {\n",
       "        vertical-align: top;\n",
       "    }\n",
       "\n",
       "    .dataframe thead th {\n",
       "        text-align: right;\n",
       "    }\n",
       "</style>\n",
       "<table border=\"1\" class=\"dataframe\">\n",
       "  <thead>\n",
       "    <tr style=\"text-align: right;\">\n",
       "      <th></th>\n",
       "      <th>repo</th>\n",
       "      <th>language</th>\n",
       "      <th>readme_contents</th>\n",
       "      <th>clean_text</th>\n",
       "      <th>stem</th>\n",
       "      <th>lemmatize</th>\n",
       "    </tr>\n",
       "  </thead>\n",
       "  <tbody>\n",
       "    <tr>\n",
       "      <th>243</th>\n",
       "      <td>facebookresearch/Detectron</td>\n",
       "      <td>Python</td>\n",
       "      <td>**Detectron is deprecated. Please see [detectr...</td>\n",
       "      <td>detectron deprecated please see detectronhttps...</td>\n",
       "      <td>detectron deprec pleas see detectronhttpsgithu...</td>\n",
       "      <td>detectron deprecated please see detectronhttps...</td>\n",
       "    </tr>\n",
       "    <tr>\n",
       "      <th>10</th>\n",
       "      <td>github/docs</td>\n",
       "      <td>JavaScript</td>\n",
       "      <td># GitHub Docs &lt;!-- omit in toc --&gt;\\n\\nThis rep...</td>\n",
       "      <td>github docs omit toc repository contains docum...</td>\n",
       "      <td>github doc omit toc repositori contain documen...</td>\n",
       "      <td>github doc omit toc repository contains docume...</td>\n",
       "    </tr>\n",
       "    <tr>\n",
       "      <th>245</th>\n",
       "      <td>taizilongxu/interview_python</td>\n",
       "      <td>Shell</td>\n",
       "      <td>&lt;!-- markdown-toc start - Don't edit this sect...</td>\n",
       "      <td>markdowntoc start dont edit section run mx mar...</td>\n",
       "      <td>markdowntoc start dont edit section run mx mar...</td>\n",
       "      <td>markdowntoc start dont edit section run mx mar...</td>\n",
       "    </tr>\n",
       "    <tr>\n",
       "      <th>253</th>\n",
       "      <td>tornadoweb/tornado</td>\n",
       "      <td>Python</td>\n",
       "      <td>Tornado Web Server\\n==================\\n\\n.. i...</td>\n",
       "      <td>tornado web server image httpsbadgesgitterimjo...</td>\n",
       "      <td>tornado web server imag httpsbadgesgitterimjoi...</td>\n",
       "      <td>tornado web server image httpsbadgesgitterimjo...</td>\n",
       "    </tr>\n",
       "    <tr>\n",
       "      <th>225</th>\n",
       "      <td>docsifyjs/docsify</td>\n",
       "      <td>JavaScript</td>\n",
       "      <td>&lt;p align=\"center\"&gt;\\n  &lt;a href=\"https://docsify...</td>\n",
       "      <td>p aligncenter hrefhttpsdocsifyjsorg img altdoc...</td>\n",
       "      <td>p aligncent hrefhttpsdocsifyjsorg img altdocsi...</td>\n",
       "      <td>p aligncenter hrefhttpsdocsifyjsorg img altdoc...</td>\n",
       "    </tr>\n",
       "  </tbody>\n",
       "</table>\n",
       "</div>"
      ],
      "text/plain": [
       "                             repo    language  \\\n",
       "243    facebookresearch/Detectron      Python   \n",
       "10                    github/docs  JavaScript   \n",
       "245  taizilongxu/interview_python       Shell   \n",
       "253            tornadoweb/tornado      Python   \n",
       "225             docsifyjs/docsify  JavaScript   \n",
       "\n",
       "                                       readme_contents  \\\n",
       "243  **Detectron is deprecated. Please see [detectr...   \n",
       "10   # GitHub Docs <!-- omit in toc -->\\n\\nThis rep...   \n",
       "245  <!-- markdown-toc start - Don't edit this sect...   \n",
       "253  Tornado Web Server\\n==================\\n\\n.. i...   \n",
       "225  <p align=\"center\">\\n  <a href=\"https://docsify...   \n",
       "\n",
       "                                            clean_text  \\\n",
       "243  detectron deprecated please see detectronhttps...   \n",
       "10   github docs omit toc repository contains docum...   \n",
       "245  markdowntoc start dont edit section run mx mar...   \n",
       "253  tornado web server image httpsbadgesgitterimjo...   \n",
       "225  p aligncenter hrefhttpsdocsifyjsorg img altdoc...   \n",
       "\n",
       "                                                  stem  \\\n",
       "243  detectron deprec pleas see detectronhttpsgithu...   \n",
       "10   github doc omit toc repositori contain documen...   \n",
       "245  markdowntoc start dont edit section run mx mar...   \n",
       "253  tornado web server imag httpsbadgesgitterimjoi...   \n",
       "225  p aligncent hrefhttpsdocsifyjsorg img altdocsi...   \n",
       "\n",
       "                                             lemmatize  \n",
       "243  detectron deprecated please see detectronhttps...  \n",
       "10   github doc omit toc repository contains docume...  \n",
       "245  markdowntoc start dont edit section run mx mar...  \n",
       "253  tornado web server image httpsbadgesgitterimjo...  \n",
       "225  p aligncenter hrefhttpsdocsifyjsorg img altdoc...  "
      ]
     },
     "execution_count": 5,
     "metadata": {},
     "output_type": "execute_result"
    }
   ],
   "source": [
    "X_train.head()"
   ]
  },
  {
   "cell_type": "code",
   "execution_count": 6,
   "id": "5fcdebc3",
   "metadata": {},
   "outputs": [
    {
     "data": {
      "text/plain": [
       "0    0.711297\n",
       "2    0.158996\n",
       "1    0.129707\n",
       "Name: target, dtype: float64"
      ]
     },
     "execution_count": 6,
     "metadata": {},
     "output_type": "execute_result"
    }
   ],
   "source": [
    "#getting baseline\n",
    "y_train.value_counts(normalize=True)"
   ]
  },
  {
   "cell_type": "code",
   "execution_count": 7,
   "id": "96f770ee",
   "metadata": {},
   "outputs": [],
   "source": [
    "#set column for modeling\n",
    "X_train_model = X_train.stem\n",
    "X_validate_model = X_validate.stem\n",
    "X_test_model = X_test.stem"
   ]
  },
  {
   "cell_type": "code",
   "execution_count": 8,
   "id": "05f84298",
   "metadata": {},
   "outputs": [],
   "source": [
    "#make the vectorizer\n",
    "tfidf = TfidfVectorizer()"
   ]
  },
  {
   "cell_type": "code",
   "execution_count": 9,
   "id": "93685ee7",
   "metadata": {},
   "outputs": [],
   "source": [
    "#fit and transform the vectorizer\n",
    "X_train_model = tfidf.fit_transform(X_train_model)\n",
    "X_validate_model = tfidf.transform(X_validate_model)\n",
    "X_test_model = tfidf.transform(X_test_model)"
   ]
  },
  {
   "cell_type": "code",
   "execution_count": 10,
   "id": "0b2bed96",
   "metadata": {},
   "outputs": [],
   "source": [
    "#create df with actual values\n",
    "train_lm = pd.DataFrame(dict(actual=y_train))\n",
    "validate_lm = pd.DataFrame(dict(actual=y_validate))\n",
    "test_lm = pd.DataFrame(dict(actual=y_test))"
   ]
  },
  {
   "cell_type": "code",
   "execution_count": 11,
   "id": "ae2b1152",
   "metadata": {},
   "outputs": [],
   "source": [
    "#fit the model\n",
    "lm = LogisticRegression().fit(X_train_model, y_train)"
   ]
  },
  {
   "cell_type": "code",
   "execution_count": 12,
   "id": "3b0c3fd1",
   "metadata": {},
   "outputs": [],
   "source": [
    "#add predicted values to df\n",
    "train_lm['predicted'] = lm.predict(X_train_model)\n",
    "validate_lm['predicted'] = lm.predict(X_validate_model)\n",
    "test_lm['predicted'] = lm.predict(X_test_model)"
   ]
  },
  {
   "cell_type": "code",
   "execution_count": 13,
   "id": "731b5a72",
   "metadata": {},
   "outputs": [
    {
     "name": "stdout",
     "output_type": "stream",
     "text": [
      "Train\n",
      "Accuracy: 72.38%\n",
      "---\n",
      "              precision    recall  f1-score   support\n",
      "\n",
      "           0       0.72      1.00      0.84       170\n",
      "           1       1.00      0.06      0.12        31\n",
      "           2       1.00      0.03      0.05        38\n",
      "\n",
      "    accuracy                           0.72       239\n",
      "   macro avg       0.91      0.36      0.34       239\n",
      "weighted avg       0.80      0.72      0.62       239\n",
      "\n",
      "---\n"
     ]
    }
   ],
   "source": [
    "print('Train')\n",
    "print('Accuracy: {:.2%}'.format(accuracy_score(train_lm.actual, train_lm.predicted)))\n",
    "print('---')\n",
    "print(classification_report(train_lm.actual, train_lm.predicted))\n",
    "print('---')"
   ]
  },
  {
   "cell_type": "code",
   "execution_count": 14,
   "id": "12975ee9",
   "metadata": {},
   "outputs": [
    {
     "name": "stdout",
     "output_type": "stream",
     "text": [
      "Validate\n",
      "Accuracy: 77.42%\n",
      "---\n",
      "              precision    recall  f1-score   support\n",
      "\n",
      "           0       0.77      1.00      0.87        23\n",
      "           1       1.00      0.25      0.40         4\n",
      "           2       0.00      0.00      0.00         4\n",
      "\n",
      "    accuracy                           0.77        31\n",
      "   macro avg       0.59      0.42      0.42        31\n",
      "weighted avg       0.70      0.77      0.70        31\n",
      "\n",
      "---\n"
     ]
    }
   ],
   "source": [
    "print('Validate')\n",
    "print('Accuracy: {:.2%}'.format(accuracy_score(validate_lm.actual, validate_lm.predicted)))\n",
    "print('---')\n",
    "print(classification_report(validate_lm.actual, validate_lm.predicted))\n",
    "print('---')"
   ]
  },
  {
   "cell_type": "code",
   "execution_count": 15,
   "id": "99cd003c",
   "metadata": {},
   "outputs": [
    {
     "name": "stdout",
     "output_type": "stream",
     "text": [
      "Train\n",
      "Accuracy: 72.38%\n",
      "---\n",
      "              precision    recall  f1-score   support\n",
      "\n",
      "           0       0.72      1.00      0.84       170\n",
      "           1       1.00      0.06      0.12        31\n",
      "           2       1.00      0.03      0.05        38\n",
      "\n",
      "    accuracy                           0.72       239\n",
      "   macro avg       0.91      0.36      0.34       239\n",
      "weighted avg       0.80      0.72      0.62       239\n",
      "\n",
      "---\n",
      "Validate\n",
      "Accuracy: 77.42%\n",
      "---\n",
      "              precision    recall  f1-score   support\n",
      "\n",
      "           0       0.77      1.00      0.87        23\n",
      "           1       1.00      0.25      0.40         4\n",
      "           2       0.00      0.00      0.00         4\n",
      "\n",
      "    accuracy                           0.77        31\n",
      "   macro avg       0.59      0.42      0.42        31\n",
      "weighted avg       0.70      0.77      0.70        31\n",
      "\n",
      "---\n"
     ]
    }
   ],
   "source": [
    "m.run_logistic_model()"
   ]
  },
  {
   "cell_type": "code",
   "execution_count": 16,
   "id": "f9d85200",
   "metadata": {},
   "outputs": [
    {
     "name": "stdout",
     "output_type": "stream",
     "text": [
      "Train\n",
      "Accuracy: 72.38%\n",
      "---\n",
      "              precision    recall  f1-score   support\n",
      "\n",
      "           0       0.72      1.00      0.84       170\n",
      "           1       1.00      0.06      0.12        31\n",
      "           2       1.00      0.03      0.05        38\n",
      "\n",
      "    accuracy                           0.72       239\n",
      "   macro avg       0.91      0.36      0.34       239\n",
      "weighted avg       0.80      0.72      0.62       239\n",
      "\n",
      "---\n",
      "Validate\n",
      "Accuracy: 77.42%\n",
      "---\n",
      "              precision    recall  f1-score   support\n",
      "\n",
      "           0       0.77      1.00      0.87        23\n",
      "           1       1.00      0.25      0.40         4\n",
      "           2       0.00      0.00      0.00         4\n",
      "\n",
      "    accuracy                           0.77        31\n",
      "   macro avg       0.59      0.42      0.42        31\n",
      "weighted avg       0.70      0.77      0.70        31\n",
      "\n",
      "---\n"
     ]
    }
   ],
   "source": [
    "m.run_logistic_model(feature_column = 'lemmatize')"
   ]
  },
  {
   "cell_type": "code",
   "execution_count": 17,
   "id": "4fa10de7",
   "metadata": {},
   "outputs": [
    {
     "name": "stdout",
     "output_type": "stream",
     "text": [
      "Train\n",
      "Accuracy: 83.26%\n",
      "---\n",
      "              precision    recall  f1-score   support\n",
      "\n",
      "           0       0.85      0.94      0.89       170\n",
      "           1       0.74      0.74      0.74        31\n",
      "           2       0.80      0.42      0.55        38\n",
      "\n",
      "    accuracy                           0.83       239\n",
      "   macro avg       0.80      0.70      0.73       239\n",
      "weighted avg       0.83      0.83      0.82       239\n",
      "\n",
      "---\n",
      "Validate\n",
      "Accuracy: 70.97%\n",
      "---\n",
      "              precision    recall  f1-score   support\n",
      "\n",
      "           0       0.83      0.83      0.83        23\n",
      "           1       0.50      0.25      0.33         4\n",
      "           2       0.33      0.50      0.40         4\n",
      "\n",
      "    accuracy                           0.71        31\n",
      "   macro avg       0.55      0.53      0.52        31\n",
      "weighted avg       0.72      0.71      0.71        31\n",
      "\n",
      "---\n"
     ]
    }
   ],
   "source": [
    "m.run_decisiontree_model()"
   ]
  },
  {
   "cell_type": "code",
   "execution_count": 18,
   "id": "b942d55f",
   "metadata": {},
   "outputs": [
    {
     "name": "stdout",
     "output_type": "stream",
     "text": [
      "Train\n",
      "Accuracy: 83.68%\n",
      "---\n",
      "              precision    recall  f1-score   support\n",
      "\n",
      "           0       0.84      0.96      0.90       170\n",
      "           1       0.81      0.68      0.74        31\n",
      "           2       0.84      0.42      0.56        38\n",
      "\n",
      "    accuracy                           0.84       239\n",
      "   macro avg       0.83      0.69      0.73       239\n",
      "weighted avg       0.84      0.84      0.82       239\n",
      "\n",
      "---\n",
      "Validate\n",
      "Accuracy: 67.74%\n",
      "---\n",
      "              precision    recall  f1-score   support\n",
      "\n",
      "           0       0.77      0.87      0.82        23\n",
      "           1       0.00      0.00      0.00         4\n",
      "           2       0.20      0.25      0.22         4\n",
      "\n",
      "    accuracy                           0.68        31\n",
      "   macro avg       0.32      0.37      0.35        31\n",
      "weighted avg       0.60      0.68      0.63        31\n",
      "\n",
      "---\n"
     ]
    }
   ],
   "source": [
    "m.run_decisiontree_model(feature_column='lemmatize')"
   ]
  },
  {
   "cell_type": "code",
   "execution_count": 19,
   "id": "68b080cc",
   "metadata": {},
   "outputs": [
    {
     "name": "stdout",
     "output_type": "stream",
     "text": [
      "Train\n",
      "Accuracy: 71.13%\n",
      "---\n",
      "              precision    recall  f1-score   support\n",
      "\n",
      "           0       0.71      1.00      0.83       170\n",
      "           1       0.00      0.00      0.00        31\n",
      "           2       0.00      0.00      0.00        38\n",
      "\n",
      "    accuracy                           0.71       239\n",
      "   macro avg       0.24      0.33      0.28       239\n",
      "weighted avg       0.51      0.71      0.59       239\n",
      "\n",
      "---\n",
      "Validate\n",
      "Accuracy: 74.19%\n",
      "---\n",
      "              precision    recall  f1-score   support\n",
      "\n",
      "           0       0.74      1.00      0.85        23\n",
      "           1       0.00      0.00      0.00         4\n",
      "           2       0.00      0.00      0.00         4\n",
      "\n",
      "    accuracy                           0.74        31\n",
      "   macro avg       0.25      0.33      0.28        31\n",
      "weighted avg       0.55      0.74      0.63        31\n",
      "\n",
      "---\n"
     ]
    }
   ],
   "source": [
    "m.run_randomforest_model()"
   ]
  },
  {
   "cell_type": "code",
   "execution_count": 20,
   "id": "7b2d2524",
   "metadata": {},
   "outputs": [
    {
     "name": "stdout",
     "output_type": "stream",
     "text": [
      "Train\n",
      "Accuracy: 71.13%\n",
      "---\n",
      "              precision    recall  f1-score   support\n",
      "\n",
      "           0       0.71      1.00      0.83       170\n",
      "           1       0.00      0.00      0.00        31\n",
      "           2       0.00      0.00      0.00        38\n",
      "\n",
      "    accuracy                           0.71       239\n",
      "   macro avg       0.24      0.33      0.28       239\n",
      "weighted avg       0.51      0.71      0.59       239\n",
      "\n",
      "---\n",
      "Validate\n",
      "Accuracy: 74.19%\n",
      "---\n",
      "              precision    recall  f1-score   support\n",
      "\n",
      "           0       0.74      1.00      0.85        23\n",
      "           1       0.00      0.00      0.00         4\n",
      "           2       0.00      0.00      0.00         4\n",
      "\n",
      "    accuracy                           0.74        31\n",
      "   macro avg       0.25      0.33      0.28        31\n",
      "weighted avg       0.55      0.74      0.63        31\n",
      "\n",
      "---\n"
     ]
    }
   ],
   "source": [
    "m.run_randomforest_model(feature_column='lemmatize')"
   ]
  },
  {
   "cell_type": "code",
   "execution_count": 21,
   "id": "4b0e1499",
   "metadata": {},
   "outputs": [
    {
     "name": "stdout",
     "output_type": "stream",
     "text": [
      "Train\n",
      "Accuracy: 71.13%\n",
      "---\n",
      "              precision    recall  f1-score   support\n",
      "\n",
      "           0       0.71      1.00      0.83       170\n",
      "           1       0.00      0.00      0.00        31\n",
      "           2       0.00      0.00      0.00        38\n",
      "\n",
      "    accuracy                           0.71       239\n",
      "   macro avg       0.24      0.33      0.28       239\n",
      "weighted avg       0.51      0.71      0.59       239\n",
      "\n",
      "---\n",
      "Validate\n",
      "Accuracy: 74.19%\n",
      "---\n",
      "              precision    recall  f1-score   support\n",
      "\n",
      "           0       0.74      1.00      0.85        23\n",
      "           1       0.00      0.00      0.00         4\n",
      "           2       0.00      0.00      0.00         4\n",
      "\n",
      "    accuracy                           0.74        31\n",
      "   macro avg       0.25      0.33      0.28        31\n",
      "weighted avg       0.55      0.74      0.63        31\n",
      "\n",
      "---\n"
     ]
    }
   ],
   "source": [
    "m.run_naivebayes_model()"
   ]
  },
  {
   "cell_type": "code",
   "execution_count": 22,
   "id": "ac0ec931",
   "metadata": {},
   "outputs": [
    {
     "name": "stdout",
     "output_type": "stream",
     "text": [
      "Train\n",
      "Accuracy: 71.13%\n",
      "---\n",
      "              precision    recall  f1-score   support\n",
      "\n",
      "           0       0.71      1.00      0.83       170\n",
      "           1       0.00      0.00      0.00        31\n",
      "           2       0.00      0.00      0.00        38\n",
      "\n",
      "    accuracy                           0.71       239\n",
      "   macro avg       0.24      0.33      0.28       239\n",
      "weighted avg       0.51      0.71      0.59       239\n",
      "\n",
      "---\n",
      "Validate\n",
      "Accuracy: 74.19%\n",
      "---\n",
      "              precision    recall  f1-score   support\n",
      "\n",
      "           0       0.74      1.00      0.85        23\n",
      "           1       0.00      0.00      0.00         4\n",
      "           2       0.00      0.00      0.00         4\n",
      "\n",
      "    accuracy                           0.74        31\n",
      "   macro avg       0.25      0.33      0.28        31\n",
      "weighted avg       0.55      0.74      0.63        31\n",
      "\n",
      "---\n"
     ]
    }
   ],
   "source": [
    "m.run_naivebayes_model(feature_column='lemmatize')"
   ]
  },
  {
   "cell_type": "code",
   "execution_count": 23,
   "id": "40d315e3",
   "metadata": {},
   "outputs": [
    {
     "name": "stdout",
     "output_type": "stream",
     "text": [
      "Accuracy of logistic regression classifier on test set: 0.71\n"
     ]
    }
   ],
   "source": [
    "m.run_final_test_model()"
   ]
  }
 ],
 "metadata": {
  "kernelspec": {
   "display_name": "Python 3 (ipykernel)",
   "language": "python",
   "name": "python3"
  },
  "language_info": {
   "codemirror_mode": {
    "name": "ipython",
    "version": 3
   },
   "file_extension": ".py",
   "mimetype": "text/x-python",
   "name": "python",
   "nbconvert_exporter": "python",
   "pygments_lexer": "ipython3",
   "version": "3.10.9"
  }
 },
 "nbformat": 4,
 "nbformat_minor": 5
}
