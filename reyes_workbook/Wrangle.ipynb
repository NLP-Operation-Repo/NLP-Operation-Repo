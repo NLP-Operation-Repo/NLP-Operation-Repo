{
 "cells": [
  {
   "cell_type": "code",
   "execution_count": 61,
   "id": "fadecd8d",
   "metadata": {},
   "outputs": [],
   "source": [
    "import sys\n",
    "sys.path.append('..')\n",
    "\n",
    "import acquire\n",
    "import env\n",
    "\n",
    "import requests\n",
    "from bs4 import BeautifulSoup\n",
    "import pprint"
   ]
  },
  {
   "cell_type": "code",
   "execution_count": 36,
   "id": "f5d417b4",
   "metadata": {},
   "outputs": [],
   "source": [
    "from selenium import webdriver\n",
    "from selenium.webdriver.chrome.service import Service\n",
    "from selenium.webdriver.common.by import By\n",
    "from selenium.webdriver.chrome.options import Options\n",
    "from selenium.webdriver.common.action_chains import ActionChains\n",
    "from selenium.webdriver.common.keys import Keys"
   ]
  },
  {
   "cell_type": "code",
   "execution_count": 33,
   "id": "fefa8bfd",
   "metadata": {},
   "outputs": [],
   "source": [
    "url = \"https://github.com/search?q=stars%3A%3E10000&s=stars&type=repositories&o=desc\"\n",
    "headers = {'Authorization': f'token {env.github_token}',\n",
    "           'User-Agent': env.github_username}\n",
    "response = requests.get(url, headers=headers)\n",
    "\n",
    "soup = BeautifulSoup(response.content, 'html.parser')\n",
    "\n",
    "soup.content"
   ]
  },
  {
   "cell_type": "code",
   "execution_count": 27,
   "id": "2b7acc64",
   "metadata": {},
   "outputs": [],
   "source": [
    "soup = BeautifulSoup(response.content, 'html.parser')"
   ]
  },
  {
   "cell_type": "markdown",
   "id": "cbbb8e26",
   "metadata": {},
   "source": []
  },
  {
   "cell_type": "code",
   "execution_count": 28,
   "id": "8e41a83c",
   "metadata": {},
   "outputs": [],
   "source": [
    "soup.content"
   ]
  },
  {
   "cell_type": "code",
   "execution_count": null,
   "id": "803c1629",
   "metadata": {},
   "outputs": [],
   "source": [
    "soup.find"
   ]
  },
  {
   "cell_type": "code",
   "execution_count": null,
   "id": "82d7254d",
   "metadata": {},
   "outputs": [],
   "source": [
    "repos=[]\n",
    "\n",
    "url_start = \"https://github.com/search?o=desc&q=stars%3A%3E1&s=forks&type=Repositories&p=\"\n",
    "\n",
    "for i in range(1, 11): \n",
    "    url = url_start + str(i)\n",
    "    \n",
    "    ## web scrape repo names\n",
    "    # code to get repo names\n",
    "    repo_name = \"\"\n",
    "    \n",
    "    repos.append(repo_name)"
   ]
  },
  {
   "cell_type": "code",
   "execution_count": 31,
   "id": "ba0fe557",
   "metadata": {},
   "outputs": [],
   "source": [
    "soup.content"
   ]
  },
  {
   "cell_type": "code",
   "execution_count": null,
   "id": "68ce46b0",
   "metadata": {},
   "outputs": [],
   "source": []
  },
  {
   "cell_type": "code",
   "execution_count": 34,
   "id": "29a2e6ad",
   "metadata": {},
   "outputs": [],
   "source": [
    "def read_website(url, webdriver_path = '~/chromedriver'):\n",
    "    '''\n",
    "        read website and returns a data structure representing a parsed HTML document\n",
    "    '''\n",
    "    # Path to chromedriver executable\n",
    "    webdriver_path = webdriver_path\n",
    "\n",
    "    # Set up the Selenium driver with options\n",
    "    options = Options()\n",
    "    options.add_argument('--headless')  # Run in headless mode\n",
    "    driver = webdriver.Chrome(service=Service(webdriver_path), options=options)\n",
    "    \n",
    "    # Load the webpage\n",
    "    driver.get(url)\n",
    "\n",
    "    # Wait for the dynamic content to load (if necessary)\n",
    "    # You can use driver.implicitly_wait() or other wait methods\n",
    "\n",
    "    # Extract the page source after the dynamic content has loaded\n",
    "    source = driver.page_source\n",
    "\n",
    "    # Close the Selenium driver\n",
    "    driver.quit()\n",
    "    \n",
    "    # Parse the page source with BeautifulSoup\n",
    "    soup = BeautifulSoup(source, 'lxml')\n",
    "\n",
    "    return soup\n",
    "\n"
   ]
  },
  {
   "cell_type": "code",
   "execution_count": 106,
   "id": "8c46f41c",
   "metadata": {},
   "outputs": [],
   "source": [
    "url = \"https://github.com/search?q=stars%3A%3E10000&type=repositories&p=2\"\n",
    "\n",
    "soup = read_website(url, webdriver_path = '~/chromedriver')"
   ]
  },
  {
   "cell_type": "code",
   "execution_count": 107,
   "id": "991cc6d3",
   "metadata": {},
   "outputs": [
    {
     "data": {
      "text/plain": [
       "['/vuejs/vue',\n",
       " '/vinta/awesome-python',\n",
       " '/tensorflow/tensorflow',\n",
       " '/trekhleb/javascript-algorithms',\n",
       " '/getify/You-Dont-Know-JS',\n",
       " '/CyC2018/CS-Notes',\n",
       " '/twbs/bootstrap',\n",
       " '/TheAlgorithms/Python',\n",
       " '/ohmyzsh/ohmyzsh',\n",
       " '/torvalds/linux']"
      ]
     },
     "execution_count": 107,
     "metadata": {},
     "output_type": "execute_result"
    }
   ],
   "source": [
    "[h3.div.find_all('div')[1].a['href'] for h3 in soup.find_all('h3')]"
   ]
  },
  {
   "cell_type": "code",
   "execution_count": 128,
   "id": "ac84d8e7",
   "metadata": {},
   "outputs": [
    {
     "name": "stdout",
     "output_type": "stream",
     "text": [
      "1\n",
      "2\n",
      "3\n",
      "4\n",
      "5\n",
      "6\n",
      "7\n",
      "8\n"
     ]
    },
    {
     "ename": "AttributeError",
     "evalue": "'NoneType' object has no attribute 'find_all'",
     "output_type": "error",
     "traceback": [
      "\u001b[0;31m---------------------------------------------------------------------------\u001b[0m",
      "\u001b[0;31mAttributeError\u001b[0m                            Traceback (most recent call last)",
      "Cell \u001b[0;32mIn[128], line 10\u001b[0m\n\u001b[1;32m      6\u001b[0m url \u001b[38;5;241m=\u001b[39m url_start \u001b[38;5;241m+\u001b[39m \u001b[38;5;28mstr\u001b[39m(page)\n\u001b[1;32m      8\u001b[0m soup \u001b[38;5;241m=\u001b[39m read_website(url, webdriver_path \u001b[38;5;241m=\u001b[39m \u001b[38;5;124m'\u001b[39m\u001b[38;5;124m~/chromedriver\u001b[39m\u001b[38;5;124m'\u001b[39m)\n\u001b[0;32m---> 10\u001b[0m repos \u001b[38;5;241m+\u001b[39m\u001b[38;5;241m=\u001b[39m [h3\u001b[38;5;241m.\u001b[39mdiv\u001b[38;5;241m.\u001b[39mfind_all(\u001b[38;5;124m'\u001b[39m\u001b[38;5;124mdiv\u001b[39m\u001b[38;5;124m'\u001b[39m)[\u001b[38;5;241m1\u001b[39m]\u001b[38;5;241m.\u001b[39ma[\u001b[38;5;124m'\u001b[39m\u001b[38;5;124mhref\u001b[39m\u001b[38;5;124m'\u001b[39m] \u001b[38;5;28;01mfor\u001b[39;00m h3 \u001b[38;5;129;01min\u001b[39;00m soup\u001b[38;5;241m.\u001b[39mfind_all(\u001b[38;5;124m'\u001b[39m\u001b[38;5;124mh3\u001b[39m\u001b[38;5;124m'\u001b[39m)]\n",
      "Cell \u001b[0;32mIn[128], line 10\u001b[0m, in \u001b[0;36m<listcomp>\u001b[0;34m(.0)\u001b[0m\n\u001b[1;32m      6\u001b[0m url \u001b[38;5;241m=\u001b[39m url_start \u001b[38;5;241m+\u001b[39m \u001b[38;5;28mstr\u001b[39m(page)\n\u001b[1;32m      8\u001b[0m soup \u001b[38;5;241m=\u001b[39m read_website(url, webdriver_path \u001b[38;5;241m=\u001b[39m \u001b[38;5;124m'\u001b[39m\u001b[38;5;124m~/chromedriver\u001b[39m\u001b[38;5;124m'\u001b[39m)\n\u001b[0;32m---> 10\u001b[0m repos \u001b[38;5;241m+\u001b[39m\u001b[38;5;241m=\u001b[39m [\u001b[43mh3\u001b[49m\u001b[38;5;241;43m.\u001b[39;49m\u001b[43mdiv\u001b[49m\u001b[38;5;241;43m.\u001b[39;49m\u001b[43mfind_all\u001b[49m(\u001b[38;5;124m'\u001b[39m\u001b[38;5;124mdiv\u001b[39m\u001b[38;5;124m'\u001b[39m)[\u001b[38;5;241m1\u001b[39m]\u001b[38;5;241m.\u001b[39ma[\u001b[38;5;124m'\u001b[39m\u001b[38;5;124mhref\u001b[39m\u001b[38;5;124m'\u001b[39m] \u001b[38;5;28;01mfor\u001b[39;00m h3 \u001b[38;5;129;01min\u001b[39;00m soup\u001b[38;5;241m.\u001b[39mfind_all(\u001b[38;5;124m'\u001b[39m\u001b[38;5;124mh3\u001b[39m\u001b[38;5;124m'\u001b[39m)]\n",
      "\u001b[0;31mAttributeError\u001b[0m: 'NoneType' object has no attribute 'find_all'"
     ]
    }
   ],
   "source": [
    "repos = []\n",
    "\n",
    "for page in range(1, 21):\n",
    "    print(page)\n",
    "    url_start = \"https://github.com/search?q=stars%3A%3E10000&type=repositories&p=\"\n",
    "    url = url_start + str(page)\n",
    "    \n",
    "    soup = read_website(url, webdriver_path = '~/chromedriver')\n",
    "    \n",
    "    repos += [h3.div.find_all('div')[1].a['href'] for h3 in soup.find_all('h3')]"
   ]
  },
  {
   "cell_type": "code",
   "execution_count": 113,
   "id": "83200fe2",
   "metadata": {},
   "outputs": [],
   "source": [
    "page = 2\n",
    "url_start = \"https://github.com/search?q=stars%3A%3E10000&type=repositories&p=\"\n",
    "url = url_start + str(page)\n",
    "\n",
    "soup = read_website(url, webdriver_path = '~/chromedriver')"
   ]
  },
  {
   "cell_type": "code",
   "execution_count": 121,
   "id": "8540a1b6",
   "metadata": {},
   "outputs": [
    {
     "data": {
      "text/plain": [
       "'/vuejs/vue'"
      ]
     },
     "execution_count": 121,
     "metadata": {},
     "output_type": "execute_result"
    }
   ],
   "source": [
    "soup.find_all('h3')[0].div.find_all('div')[1].a['href']"
   ]
  },
  {
   "cell_type": "code",
   "execution_count": 129,
   "id": "cdc3a379",
   "metadata": {},
   "outputs": [
    {
     "data": {
      "text/plain": [
       "['/freeCodeCamp/freeCodeCamp',\n",
       " '/EbookFoundation/free-programming-books',\n",
       " '/996icu/996.ICU',\n",
       " '/sindresorhus/awesome',\n",
       " '/jwasham/coding-interview-university',\n",
       " '/public-apis/public-apis',\n",
       " '/kamranahmedse/developer-roadmap',\n",
       " '/donnemartin/system-design-primer',\n",
       " '/codecrafters-io/build-your-own-x',\n",
       " '/facebook/react',\n",
       " '/vuejs/vue',\n",
       " '/vinta/awesome-python',\n",
       " '/tensorflow/tensorflow',\n",
       " '/trekhleb/javascript-algorithms',\n",
       " '/getify/You-Dont-Know-JS',\n",
       " '/CyC2018/CS-Notes',\n",
       " '/twbs/bootstrap',\n",
       " '/TheAlgorithms/Python',\n",
       " '/ohmyzsh/ohmyzsh',\n",
       " '/torvalds/linux',\n",
       " '/flutter/flutter',\n",
       " '/github/gitignore',\n",
       " '/microsoft/vscode',\n",
       " '/ossu/computer-science',\n",
       " '/Significant-Gravitas/Auto-GPT',\n",
       " '/awesome-selfhosted/awesome-selfhosted',\n",
       " '/jlevy/the-art-of-command-line',\n",
       " '/jackfrued/Python-100-Days',\n",
       " '/Snailclimb/JavaGuide',\n",
       " '/airbnb/javascript',\n",
       " '/ytdl-org/youtube-dl',\n",
       " '/labuladong/fucking-algorithm',\n",
       " '/30-seconds/30-seconds-of-code',\n",
       " '/practical-tutorials/project-based-learning',\n",
       " '/golang/go',\n",
       " '/facebook/react-native',\n",
       " '/vercel/next.js',\n",
       " '/huggingface/transformers',\n",
       " '/electron/electron',\n",
       " '/avelino/awesome-go',\n",
       " '/d3/d3',\n",
       " '/trimstray/the-book-of-secret-knowledge',\n",
       " '/justjavac/free-programming-books-zh_CN',\n",
       " '/axios/axios',\n",
       " '/kubernetes/kubernetes',\n",
       " '/facebook/create-react-app',\n",
       " '/AUTOMATIC1111/stable-diffusion-webui',\n",
       " '/nodejs/node',\n",
       " '/yangshun/tech-interview-handbook',\n",
       " '/microsoft/PowerToys',\n",
       " '/mrdoob/three.js',\n",
       " '/microsoft/TypeScript',\n",
       " '/goldbergyoni/nodebestpractices',\n",
       " '/denoland/deno',\n",
       " '/microsoft/terminal',\n",
       " '/angular/angular',\n",
       " '/Genymobile/scrcpy',\n",
       " '/mui/material-ui',\n",
       " '/ant-design/ant-design',\n",
       " '/f/awesome-chatgpt-prompts',\n",
       " '/ryanmcdermott/clean-code-javascript',\n",
       " '/rust-lang/rust',\n",
       " '/puppeteer/puppeteer',\n",
       " '/PanJiaChen/vue-element-admin',\n",
       " '/iluwatar/java-design-patterns',\n",
       " '/storybookjs/storybook',\n",
       " '/nvbn/thefuck',\n",
       " '/animate-css/animate.css',\n",
       " '/tensorflow/models',\n",
       " '/gothinkster/realworld']"
      ]
     },
     "execution_count": 129,
     "metadata": {},
     "output_type": "execute_result"
    }
   ],
   "source": [
    "repos"
   ]
  },
  {
   "cell_type": "code",
   "execution_count": null,
   "id": "f2301d40",
   "metadata": {},
   "outputs": [],
   "source": []
  }
 ],
 "metadata": {
  "kernelspec": {
   "display_name": "Python 3 (ipykernel)",
   "language": "python",
   "name": "python3"
  },
  "language_info": {
   "codemirror_mode": {
    "name": "ipython",
    "version": 3
   },
   "file_extension": ".py",
   "mimetype": "text/x-python",
   "name": "python",
   "nbconvert_exporter": "python",
   "pygments_lexer": "ipython3",
   "version": "3.10.9"
  },
  "varInspector": {
   "cols": {
    "lenName": 16,
    "lenType": 16,
    "lenVar": 40
   },
   "kernels_config": {
    "python": {
     "delete_cmd_postfix": "",
     "delete_cmd_prefix": "del ",
     "library": "var_list.py",
     "varRefreshCmd": "print(var_dic_list())"
    },
    "r": {
     "delete_cmd_postfix": ") ",
     "delete_cmd_prefix": "rm(",
     "library": "var_list.r",
     "varRefreshCmd": "cat(var_dic_list()) "
    }
   },
   "types_to_exclude": [
    "module",
    "function",
    "builtin_function_or_method",
    "instance",
    "_Feature"
   ],
   "window_display": false
  }
 },
 "nbformat": 4,
 "nbformat_minor": 5
}
