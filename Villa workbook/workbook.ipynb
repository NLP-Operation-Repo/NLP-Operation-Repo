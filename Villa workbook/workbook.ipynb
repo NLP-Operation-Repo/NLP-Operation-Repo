{
 "cells": [
  {
   "cell_type": "code",
   "execution_count": 1,
   "id": "9934bfcc",
   "metadata": {},
   "outputs": [],
   "source": [
    "import pandas as pd\n",
    "import numpy as np"
   ]
  },
  {
   "cell_type": "code",
   "execution_count": 2,
   "id": "a6524740",
   "metadata": {},
   "outputs": [],
   "source": [
    "from acquire import github_api_request"
   ]
  },
  {
   "cell_type": "code",
   "execution_count": 7,
   "id": "940145e0",
   "metadata": {},
   "outputs": [],
   "source": [
    "# Standard imports for scrpaing\n",
    "from requests import get\n",
    "from bs4 import BeautifulSoup\n",
    "import os\n",
    "import pandas as pd\n",
    "\n",
    "\n",
    "# Used to run selenium\n",
    "from selenium import webdriver\n",
    "from selenium.webdriver.common.keys import Keys\n"
   ]
  },
  {
   "cell_type": "code",
   "execution_count": 8,
   "id": "46fe975a",
   "metadata": {},
   "outputs": [],
   "source": [
    "from env import github_token, github_username"
   ]
  },
  {
   "cell_type": "code",
   "execution_count": 211,
   "id": "bcd88e7b",
   "metadata": {},
   "outputs": [],
   "source": [
    "from prepare import basic_clean, tokenize, remove_stopwords, stem, lemmatize"
   ]
  },
  {
   "cell_type": "code",
   "execution_count": 41,
   "id": "0c742473",
   "metadata": {},
   "outputs": [],
   "source": [
    "url = 'https://github.com/trending?spoken_language_code=en'\n",
    "headers = {\"Authorization\": f\"token {github_token}\", \"User-Agent\": github_username}\n",
    "response = get(url, headers=headers)\n"
   ]
  },
  {
   "cell_type": "code",
   "execution_count": 68,
   "id": "eddd4c9a",
   "metadata": {},
   "outputs": [
    {
     "data": {
      "text/plain": [
       "[<h2 class=\"h3 lh-condensed\">\n",
       " <a class=\"Link\" data-hydro-click='{\"event_type\":\"explore.click\",\"payload\":{\"click_context\":\"TRENDING_REPOSITORIES_PAGE\",\"click_target\":\"REPOSITORY\",\"click_visual_representation\":\"REPOSITORY_NAME_HEADING\",\"actor_id\":null,\"record_id\":554771302,\"originating_url\":\"https://github.com/trending?spoken_language_code=en\",\"user_id\":null}}' data-hydro-click-hmac=\"63044630c1735178d4d395181f6c830fa7fee7fa33c3dddcfc59a89b74a33fa0\" data-view-component=\"true\" href=\"/steven2358/awesome-generative-ai\">\n",
       " <svg aria-hidden=\"true\" class=\"octicon octicon-repo mr-1 color-fg-muted\" data-view-component=\"true\" height=\"16\" version=\"1.1\" viewbox=\"0 0 16 16\" width=\"16\">\n",
       " <path d=\"M2 2.5A2.5 2.5 0 0 1 4.5 0h8.75a.75.75 0 0 1 .75.75v12.5a.75.75 0 0 1-.75.75h-2.5a.75.75 0 0 1 0-1.5h1.75v-2h-8a1 1 0 0 0-.714 1.7.75.75 0 1 1-1.072 1.05A2.495 2.495 0 0 1 2 11.5Zm10.5-1h-8a1 1 0 0 0-1 1v6.708A2.486 2.486 0 0 1 4.5 9h8ZM5 12.25a.25.25 0 0 1 .25-.25h3.5a.25.25 0 0 1 .25.25v3.25a.25.25 0 0 1-.4.2l-1.45-1.087a.249.249 0 0 0-.3 0L5.4 15.7a.25.25 0 0 1-.4-.2Z\"></path>\n",
       " </svg>\n",
       " <span class=\"text-normal\" data-view-component=\"true\">\n",
       "         steven2358 /\n",
       " </span>\n",
       "       awesome-generative-ai\n",
       " </a> </h2>,\n",
       " <h2 class=\"h3 lh-condensed\">\n",
       " <a class=\"Link\" data-hydro-click='{\"event_type\":\"explore.click\",\"payload\":{\"click_context\":\"TRENDING_REPOSITORIES_PAGE\",\"click_target\":\"REPOSITORY\",\"click_visual_representation\":\"REPOSITORY_NAME_HEADING\",\"actor_id\":null,\"record_id\":36633370,\"originating_url\":\"https://github.com/trending?spoken_language_code=en\",\"user_id\":null}}' data-hydro-click-hmac=\"e5eeaa5dee504249f88076a661e463e27d5a91e67bd6cd209b27b080c0cb0c39\" data-view-component=\"true\" href=\"/awesome-selfhosted/awesome-selfhosted\">\n",
       " <svg aria-hidden=\"true\" class=\"octicon octicon-repo mr-1 color-fg-muted\" data-view-component=\"true\" height=\"16\" version=\"1.1\" viewbox=\"0 0 16 16\" width=\"16\">\n",
       " <path d=\"M2 2.5A2.5 2.5 0 0 1 4.5 0h8.75a.75.75 0 0 1 .75.75v12.5a.75.75 0 0 1-.75.75h-2.5a.75.75 0 0 1 0-1.5h1.75v-2h-8a1 1 0 0 0-.714 1.7.75.75 0 1 1-1.072 1.05A2.495 2.495 0 0 1 2 11.5Zm10.5-1h-8a1 1 0 0 0-1 1v6.708A2.486 2.486 0 0 1 4.5 9h8ZM5 12.25a.25.25 0 0 1 .25-.25h3.5a.25.25 0 0 1 .25.25v3.25a.25.25 0 0 1-.4.2l-1.45-1.087a.249.249 0 0 0-.3 0L5.4 15.7a.25.25 0 0 1-.4-.2Z\"></path>\n",
       " </svg>\n",
       " <span class=\"text-normal\" data-view-component=\"true\">\n",
       "         awesome-selfhosted /\n",
       " </span>\n",
       "       awesome-selfhosted\n",
       " </a> </h2>,\n",
       " <h2 class=\"h3 lh-condensed\">\n",
       " <a class=\"Link\" data-hydro-click='{\"event_type\":\"explore.click\",\"payload\":{\"click_context\":\"TRENDING_REPOSITORIES_PAGE\",\"click_target\":\"REPOSITORY\",\"click_visual_representation\":\"REPOSITORY_NAME_HEADING\",\"actor_id\":null,\"record_id\":115478820,\"originating_url\":\"https://github.com/trending?spoken_language_code=en\",\"user_id\":null}}' data-hydro-click-hmac=\"4a9bd50b364892b1d43a58b02121c27bb2eabebf68f7a9aa9924f66a5d37b584\" data-view-component=\"true\" href=\"/binhnguyennus/awesome-scalability\">\n",
       " <svg aria-hidden=\"true\" class=\"octicon octicon-repo mr-1 color-fg-muted\" data-view-component=\"true\" height=\"16\" version=\"1.1\" viewbox=\"0 0 16 16\" width=\"16\">\n",
       " <path d=\"M2 2.5A2.5 2.5 0 0 1 4.5 0h8.75a.75.75 0 0 1 .75.75v12.5a.75.75 0 0 1-.75.75h-2.5a.75.75 0 0 1 0-1.5h1.75v-2h-8a1 1 0 0 0-.714 1.7.75.75 0 1 1-1.072 1.05A2.495 2.495 0 0 1 2 11.5Zm10.5-1h-8a1 1 0 0 0-1 1v6.708A2.486 2.486 0 0 1 4.5 9h8ZM5 12.25a.25.25 0 0 1 .25-.25h3.5a.25.25 0 0 1 .25.25v3.25a.25.25 0 0 1-.4.2l-1.45-1.087a.249.249 0 0 0-.3 0L5.4 15.7a.25.25 0 0 1-.4-.2Z\"></path>\n",
       " </svg>\n",
       " <span class=\"text-normal\" data-view-component=\"true\">\n",
       "         binhnguyennus /\n",
       " </span>\n",
       "       awesome-scalability\n",
       " </a> </h2>,\n",
       " <h2 class=\"h3 lh-condensed\">\n",
       " <a class=\"Link\" data-hydro-click='{\"event_type\":\"explore.click\",\"payload\":{\"click_context\":\"TRENDING_REPOSITORIES_PAGE\",\"click_target\":\"REPOSITORY\",\"click_visual_representation\":\"REPOSITORY_NAME_HEADING\",\"actor_id\":null,\"record_id\":517552648,\"originating_url\":\"https://github.com/trending?spoken_language_code=en\",\"user_id\":null}}' data-hydro-click-hmac=\"f85594cde3a68087ac52f8122ba9c438c6ba4f710fcf52876cd1006baf23182f\" data-view-component=\"true\" href=\"/modelscope/modelscope\">\n",
       " <svg aria-hidden=\"true\" class=\"octicon octicon-repo mr-1 color-fg-muted\" data-view-component=\"true\" height=\"16\" version=\"1.1\" viewbox=\"0 0 16 16\" width=\"16\">\n",
       " <path d=\"M2 2.5A2.5 2.5 0 0 1 4.5 0h8.75a.75.75 0 0 1 .75.75v12.5a.75.75 0 0 1-.75.75h-2.5a.75.75 0 0 1 0-1.5h1.75v-2h-8a1 1 0 0 0-.714 1.7.75.75 0 1 1-1.072 1.05A2.495 2.495 0 0 1 2 11.5Zm10.5-1h-8a1 1 0 0 0-1 1v6.708A2.486 2.486 0 0 1 4.5 9h8ZM5 12.25a.25.25 0 0 1 .25-.25h3.5a.25.25 0 0 1 .25.25v3.25a.25.25 0 0 1-.4.2l-1.45-1.087a.249.249 0 0 0-.3 0L5.4 15.7a.25.25 0 0 1-.4-.2Z\"></path>\n",
       " </svg>\n",
       " <span class=\"text-normal\" data-view-component=\"true\">\n",
       "         modelscope /\n",
       " </span>\n",
       "       modelscope\n",
       " </a> </h2>,\n",
       " <h2 class=\"h3 lh-condensed\">\n",
       " <a class=\"Link\" data-hydro-click='{\"event_type\":\"explore.click\",\"payload\":{\"click_context\":\"TRENDING_REPOSITORIES_PAGE\",\"click_target\":\"REPOSITORY\",\"click_visual_representation\":\"REPOSITORY_NAME_HEADING\",\"actor_id\":null,\"record_id\":568098118,\"originating_url\":\"https://github.com/trending?spoken_language_code=en\",\"user_id\":null}}' data-hydro-click-hmac=\"14a26fa60f7a719b06351b971890a152eba658897d3a5e2faa132d5717c6be4b\" data-view-component=\"true\" href=\"/makeplane/plane\">\n",
       " <svg aria-hidden=\"true\" class=\"octicon octicon-repo mr-1 color-fg-muted\" data-view-component=\"true\" height=\"16\" version=\"1.1\" viewbox=\"0 0 16 16\" width=\"16\">\n",
       " <path d=\"M2 2.5A2.5 2.5 0 0 1 4.5 0h8.75a.75.75 0 0 1 .75.75v12.5a.75.75 0 0 1-.75.75h-2.5a.75.75 0 0 1 0-1.5h1.75v-2h-8a1 1 0 0 0-.714 1.7.75.75 0 1 1-1.072 1.05A2.495 2.495 0 0 1 2 11.5Zm10.5-1h-8a1 1 0 0 0-1 1v6.708A2.486 2.486 0 0 1 4.5 9h8ZM5 12.25a.25.25 0 0 1 .25-.25h3.5a.25.25 0 0 1 .25.25v3.25a.25.25 0 0 1-.4.2l-1.45-1.087a.249.249 0 0 0-.3 0L5.4 15.7a.25.25 0 0 1-.4-.2Z\"></path>\n",
       " </svg>\n",
       " <span class=\"text-normal\" data-view-component=\"true\">\n",
       "         makeplane /\n",
       " </span>\n",
       "       plane\n",
       " </a> </h2>,\n",
       " <h2 class=\"h3 lh-condensed\">\n",
       " <a class=\"Link\" data-hydro-click='{\"event_type\":\"explore.click\",\"payload\":{\"click_context\":\"TRENDING_REPOSITORIES_PAGE\",\"click_target\":\"REPOSITORY\",\"click_visual_representation\":\"REPOSITORY_NAME_HEADING\",\"actor_id\":null,\"record_id\":132750724,\"originating_url\":\"https://github.com/trending?spoken_language_code=en\",\"user_id\":null}}' data-hydro-click-hmac=\"f374170d5892495e3b7f6d59d159b4ce140ea7b0ff618f9749dbac9cf14e8195\" data-view-component=\"true\" href=\"/codecrafters-io/build-your-own-x\">\n",
       " <svg aria-hidden=\"true\" class=\"octicon octicon-repo mr-1 color-fg-muted\" data-view-component=\"true\" height=\"16\" version=\"1.1\" viewbox=\"0 0 16 16\" width=\"16\">\n",
       " <path d=\"M2 2.5A2.5 2.5 0 0 1 4.5 0h8.75a.75.75 0 0 1 .75.75v12.5a.75.75 0 0 1-.75.75h-2.5a.75.75 0 0 1 0-1.5h1.75v-2h-8a1 1 0 0 0-.714 1.7.75.75 0 1 1-1.072 1.05A2.495 2.495 0 0 1 2 11.5Zm10.5-1h-8a1 1 0 0 0-1 1v6.708A2.486 2.486 0 0 1 4.5 9h8ZM5 12.25a.25.25 0 0 1 .25-.25h3.5a.25.25 0 0 1 .25.25v3.25a.25.25 0 0 1-.4.2l-1.45-1.087a.249.249 0 0 0-.3 0L5.4 15.7a.25.25 0 0 1-.4-.2Z\"></path>\n",
       " </svg>\n",
       " <span class=\"text-normal\" data-view-component=\"true\">\n",
       "         codecrafters-io /\n",
       " </span>\n",
       "       build-your-own-x\n",
       " </a> </h2>,\n",
       " <h2 class=\"h3 lh-condensed\">\n",
       " <a class=\"Link\" data-hydro-click='{\"event_type\":\"explore.click\",\"payload\":{\"click_context\":\"TRENDING_REPOSITORIES_PAGE\",\"click_target\":\"REPOSITORY\",\"click_visual_representation\":\"REPOSITORY_NAME_HEADING\",\"actor_id\":null,\"record_id\":46398090,\"originating_url\":\"https://github.com/trending?spoken_language_code=en\",\"user_id\":null}}' data-hydro-click-hmac=\"34bb261516ae810690446126d2ae472d964dc3ec1a2e42207bf8d7839fb3f3ad\" data-view-component=\"true\" href=\"/datahub-project/datahub\">\n",
       " <svg aria-hidden=\"true\" class=\"octicon octicon-repo mr-1 color-fg-muted\" data-view-component=\"true\" height=\"16\" version=\"1.1\" viewbox=\"0 0 16 16\" width=\"16\">\n",
       " <path d=\"M2 2.5A2.5 2.5 0 0 1 4.5 0h8.75a.75.75 0 0 1 .75.75v12.5a.75.75 0 0 1-.75.75h-2.5a.75.75 0 0 1 0-1.5h1.75v-2h-8a1 1 0 0 0-.714 1.7.75.75 0 1 1-1.072 1.05A2.495 2.495 0 0 1 2 11.5Zm10.5-1h-8a1 1 0 0 0-1 1v6.708A2.486 2.486 0 0 1 4.5 9h8ZM5 12.25a.25.25 0 0 1 .25-.25h3.5a.25.25 0 0 1 .25.25v3.25a.25.25 0 0 1-.4.2l-1.45-1.087a.249.249 0 0 0-.3 0L5.4 15.7a.25.25 0 0 1-.4-.2Z\"></path>\n",
       " </svg>\n",
       " <span class=\"text-normal\" data-view-component=\"true\">\n",
       "         datahub-project /\n",
       " </span>\n",
       "       datahub\n",
       " </a> </h2>,\n",
       " <h2 class=\"h3 lh-condensed\">\n",
       " <a class=\"Link\" data-hydro-click='{\"event_type\":\"explore.click\",\"payload\":{\"click_context\":\"TRENDING_REPOSITORIES_PAGE\",\"click_target\":\"REPOSITORY\",\"click_visual_representation\":\"REPOSITORY_NAME_HEADING\",\"actor_id\":null,\"record_id\":155220641,\"originating_url\":\"https://github.com/trending?spoken_language_code=en\",\"user_id\":null}}' data-hydro-click-hmac=\"5763e1d4b37a9bb04691239dd8485a7ec223fef118a461c65f34577f01ce1fb1\" data-view-component=\"true\" href=\"/huggingface/transformers\">\n",
       " <svg aria-hidden=\"true\" class=\"octicon octicon-repo mr-1 color-fg-muted\" data-view-component=\"true\" height=\"16\" version=\"1.1\" viewbox=\"0 0 16 16\" width=\"16\">\n",
       " <path d=\"M2 2.5A2.5 2.5 0 0 1 4.5 0h8.75a.75.75 0 0 1 .75.75v12.5a.75.75 0 0 1-.75.75h-2.5a.75.75 0 0 1 0-1.5h1.75v-2h-8a1 1 0 0 0-.714 1.7.75.75 0 1 1-1.072 1.05A2.495 2.495 0 0 1 2 11.5Zm10.5-1h-8a1 1 0 0 0-1 1v6.708A2.486 2.486 0 0 1 4.5 9h8ZM5 12.25a.25.25 0 0 1 .25-.25h3.5a.25.25 0 0 1 .25.25v3.25a.25.25 0 0 1-.4.2l-1.45-1.087a.249.249 0 0 0-.3 0L5.4 15.7a.25.25 0 0 1-.4-.2Z\"></path>\n",
       " </svg>\n",
       " <span class=\"text-normal\" data-view-component=\"true\">\n",
       "         huggingface /\n",
       " </span>\n",
       "       transformers\n",
       " </a> </h2>,\n",
       " <h2 class=\"h3 lh-condensed\">\n",
       " <a class=\"Link\" data-hydro-click='{\"event_type\":\"explore.click\",\"payload\":{\"click_context\":\"TRENDING_REPOSITORIES_PAGE\",\"click_target\":\"REPOSITORY\",\"click_visual_representation\":\"REPOSITORY_NAME_HEADING\",\"actor_id\":null,\"record_id\":290909192,\"originating_url\":\"https://github.com/trending?spoken_language_code=en\",\"user_id\":null}}' data-hydro-click-hmac=\"25ffb2632ffbdccbdc4c9064228f2af144457343e494ffda8bd4b8686e285b3e\" data-view-component=\"true\" href=\"/EleutherAI/lm-evaluation-harness\">\n",
       " <svg aria-hidden=\"true\" class=\"octicon octicon-repo mr-1 color-fg-muted\" data-view-component=\"true\" height=\"16\" version=\"1.1\" viewbox=\"0 0 16 16\" width=\"16\">\n",
       " <path d=\"M2 2.5A2.5 2.5 0 0 1 4.5 0h8.75a.75.75 0 0 1 .75.75v12.5a.75.75 0 0 1-.75.75h-2.5a.75.75 0 0 1 0-1.5h1.75v-2h-8a1 1 0 0 0-.714 1.7.75.75 0 1 1-1.072 1.05A2.495 2.495 0 0 1 2 11.5Zm10.5-1h-8a1 1 0 0 0-1 1v6.708A2.486 2.486 0 0 1 4.5 9h8ZM5 12.25a.25.25 0 0 1 .25-.25h3.5a.25.25 0 0 1 .25.25v3.25a.25.25 0 0 1-.4.2l-1.45-1.087a.249.249 0 0 0-.3 0L5.4 15.7a.25.25 0 0 1-.4-.2Z\"></path>\n",
       " </svg>\n",
       " <span class=\"text-normal\" data-view-component=\"true\">\n",
       "         EleutherAI /\n",
       " </span>\n",
       "       lm-evaluation-harness\n",
       " </a> </h2>,\n",
       " <h2 class=\"h3 lh-condensed\">\n",
       " <a class=\"Link\" data-hydro-click='{\"event_type\":\"explore.click\",\"payload\":{\"click_context\":\"TRENDING_REPOSITORIES_PAGE\",\"click_target\":\"REPOSITORY\",\"click_visual_representation\":\"REPOSITORY_NAME_HEADING\",\"actor_id\":null,\"record_id\":85031442,\"originating_url\":\"https://github.com/trending?spoken_language_code=en\",\"user_id\":null}}' data-hydro-click-hmac=\"2b8835955a6c14970dec256ebabb17338288c3559a2149b37f266c037be9ec8d\" data-view-component=\"true\" href=\"/poteto/hiring-without-whiteboards\">\n",
       " <svg aria-hidden=\"true\" class=\"octicon octicon-repo mr-1 color-fg-muted\" data-view-component=\"true\" height=\"16\" version=\"1.1\" viewbox=\"0 0 16 16\" width=\"16\">\n",
       " <path d=\"M2 2.5A2.5 2.5 0 0 1 4.5 0h8.75a.75.75 0 0 1 .75.75v12.5a.75.75 0 0 1-.75.75h-2.5a.75.75 0 0 1 0-1.5h1.75v-2h-8a1 1 0 0 0-.714 1.7.75.75 0 1 1-1.072 1.05A2.495 2.495 0 0 1 2 11.5Zm10.5-1h-8a1 1 0 0 0-1 1v6.708A2.486 2.486 0 0 1 4.5 9h8ZM5 12.25a.25.25 0 0 1 .25-.25h3.5a.25.25 0 0 1 .25.25v3.25a.25.25 0 0 1-.4.2l-1.45-1.087a.249.249 0 0 0-.3 0L5.4 15.7a.25.25 0 0 1-.4-.2Z\"></path>\n",
       " </svg>\n",
       " <span class=\"text-normal\" data-view-component=\"true\">\n",
       "         poteto /\n",
       " </span>\n",
       "       hiring-without-whiteboards\n",
       " </a> </h2>,\n",
       " <h2 class=\"h3 lh-condensed\">\n",
       " <a class=\"Link\" data-hydro-click='{\"event_type\":\"explore.click\",\"payload\":{\"click_context\":\"TRENDING_REPOSITORIES_PAGE\",\"click_target\":\"REPOSITORY\",\"click_visual_representation\":\"REPOSITORY_NAME_HEADING\",\"actor_id\":null,\"record_id\":400215964,\"originating_url\":\"https://github.com/trending?spoken_language_code=en\",\"user_id\":null}}' data-hydro-click-hmac=\"ec107ceae8568995e43964ff62b0e50330a4bd1eec0a74e4e3b5165d1ff0756b\" data-view-component=\"true\" href=\"/novuhq/novu\">\n",
       " <svg aria-hidden=\"true\" class=\"octicon octicon-repo mr-1 color-fg-muted\" data-view-component=\"true\" height=\"16\" version=\"1.1\" viewbox=\"0 0 16 16\" width=\"16\">\n",
       " <path d=\"M2 2.5A2.5 2.5 0 0 1 4.5 0h8.75a.75.75 0 0 1 .75.75v12.5a.75.75 0 0 1-.75.75h-2.5a.75.75 0 0 1 0-1.5h1.75v-2h-8a1 1 0 0 0-.714 1.7.75.75 0 1 1-1.072 1.05A2.495 2.495 0 0 1 2 11.5Zm10.5-1h-8a1 1 0 0 0-1 1v6.708A2.486 2.486 0 0 1 4.5 9h8ZM5 12.25a.25.25 0 0 1 .25-.25h3.5a.25.25 0 0 1 .25.25v3.25a.25.25 0 0 1-.4.2l-1.45-1.087a.249.249 0 0 0-.3 0L5.4 15.7a.25.25 0 0 1-.4-.2Z\"></path>\n",
       " </svg>\n",
       " <span class=\"text-normal\" data-view-component=\"true\">\n",
       "         novuhq /\n",
       " </span>\n",
       "       novu\n",
       " </a> </h2>,\n",
       " <h2 class=\"h3 lh-condensed\">\n",
       " <a class=\"Link\" data-hydro-click='{\"event_type\":\"explore.click\",\"payload\":{\"click_context\":\"TRENDING_REPOSITORIES_PAGE\",\"click_target\":\"REPOSITORY\",\"click_visual_representation\":\"REPOSITORY_NAME_HEADING\",\"actor_id\":null,\"record_id\":71583602,\"originating_url\":\"https://github.com/trending?spoken_language_code=en\",\"user_id\":null}}' data-hydro-click-hmac=\"b99980be2eeec4fdc9a6dd927e6fe1dcb3ad8223fdb55d642a952fcca39ab842\" data-view-component=\"true\" href=\"/Developer-Y/cs-video-courses\">\n",
       " <svg aria-hidden=\"true\" class=\"octicon octicon-repo mr-1 color-fg-muted\" data-view-component=\"true\" height=\"16\" version=\"1.1\" viewbox=\"0 0 16 16\" width=\"16\">\n",
       " <path d=\"M2 2.5A2.5 2.5 0 0 1 4.5 0h8.75a.75.75 0 0 1 .75.75v12.5a.75.75 0 0 1-.75.75h-2.5a.75.75 0 0 1 0-1.5h1.75v-2h-8a1 1 0 0 0-.714 1.7.75.75 0 1 1-1.072 1.05A2.495 2.495 0 0 1 2 11.5Zm10.5-1h-8a1 1 0 0 0-1 1v6.708A2.486 2.486 0 0 1 4.5 9h8ZM5 12.25a.25.25 0 0 1 .25-.25h3.5a.25.25 0 0 1 .25.25v3.25a.25.25 0 0 1-.4.2l-1.45-1.087a.249.249 0 0 0-.3 0L5.4 15.7a.25.25 0 0 1-.4-.2Z\"></path>\n",
       " </svg>\n",
       " <span class=\"text-normal\" data-view-component=\"true\">\n",
       "         Developer-Y /\n",
       " </span>\n",
       "       cs-video-courses\n",
       " </a> </h2>,\n",
       " <h2 class=\"h3 lh-condensed\">\n",
       " <a class=\"Link\" data-hydro-click='{\"event_type\":\"explore.click\",\"payload\":{\"click_context\":\"TRENDING_REPOSITORIES_PAGE\",\"click_target\":\"REPOSITORY\",\"click_visual_representation\":\"REPOSITORY_NAME_HEADING\",\"actor_id\":null,\"record_id\":7122594,\"originating_url\":\"https://github.com/trending?spoken_language_code=en\",\"user_id\":null}}' data-hydro-click-hmac=\"cebf992edfea9e31744dd4810fb08968a2dcf0485f74a1d6155017131bde7f29\" data-view-component=\"true\" href=\"/directus/directus\">\n",
       " <svg aria-hidden=\"true\" class=\"octicon octicon-repo mr-1 color-fg-muted\" data-view-component=\"true\" height=\"16\" version=\"1.1\" viewbox=\"0 0 16 16\" width=\"16\">\n",
       " <path d=\"M2 2.5A2.5 2.5 0 0 1 4.5 0h8.75a.75.75 0 0 1 .75.75v12.5a.75.75 0 0 1-.75.75h-2.5a.75.75 0 0 1 0-1.5h1.75v-2h-8a1 1 0 0 0-.714 1.7.75.75 0 1 1-1.072 1.05A2.495 2.495 0 0 1 2 11.5Zm10.5-1h-8a1 1 0 0 0-1 1v6.708A2.486 2.486 0 0 1 4.5 9h8ZM5 12.25a.25.25 0 0 1 .25-.25h3.5a.25.25 0 0 1 .25.25v3.25a.25.25 0 0 1-.4.2l-1.45-1.087a.249.249 0 0 0-.3 0L5.4 15.7a.25.25 0 0 1-.4-.2Z\"></path>\n",
       " </svg>\n",
       " <span class=\"text-normal\" data-view-component=\"true\">\n",
       "         directus /\n",
       " </span>\n",
       "       directus\n",
       " </a> </h2>,\n",
       " <h2 class=\"h3 lh-condensed\">\n",
       " <a class=\"Link\" data-hydro-click='{\"event_type\":\"explore.click\",\"payload\":{\"click_context\":\"TRENDING_REPOSITORIES_PAGE\",\"click_target\":\"REPOSITORY\",\"click_visual_representation\":\"REPOSITORY_NAME_HEADING\",\"actor_id\":null,\"record_id\":393874035,\"originating_url\":\"https://github.com/trending?spoken_language_code=en\",\"user_id\":null}}' data-hydro-click-hmac=\"5a819f80dc4ffe7a943f4b74e4a438553172fac0cdfa0a56398bab16f6c98e84\" data-view-component=\"true\" href=\"/BlinkDL/RWKV-LM\">\n",
       " <svg aria-hidden=\"true\" class=\"octicon octicon-repo mr-1 color-fg-muted\" data-view-component=\"true\" height=\"16\" version=\"1.1\" viewbox=\"0 0 16 16\" width=\"16\">\n",
       " <path d=\"M2 2.5A2.5 2.5 0 0 1 4.5 0h8.75a.75.75 0 0 1 .75.75v12.5a.75.75 0 0 1-.75.75h-2.5a.75.75 0 0 1 0-1.5h1.75v-2h-8a1 1 0 0 0-.714 1.7.75.75 0 1 1-1.072 1.05A2.495 2.495 0 0 1 2 11.5Zm10.5-1h-8a1 1 0 0 0-1 1v6.708A2.486 2.486 0 0 1 4.5 9h8ZM5 12.25a.25.25 0 0 1 .25-.25h3.5a.25.25 0 0 1 .25.25v3.25a.25.25 0 0 1-.4.2l-1.45-1.087a.249.249 0 0 0-.3 0L5.4 15.7a.25.25 0 0 1-.4-.2Z\"></path>\n",
       " </svg>\n",
       " <span class=\"text-normal\" data-view-component=\"true\">\n",
       "         BlinkDL /\n",
       " </span>\n",
       "       RWKV-LM\n",
       " </a> </h2>,\n",
       " <h2 class=\"h3 lh-condensed\">\n",
       " <a class=\"Link\" data-hydro-click='{\"event_type\":\"explore.click\",\"payload\":{\"click_context\":\"TRENDING_REPOSITORIES_PAGE\",\"click_target\":\"REPOSITORY\",\"click_visual_representation\":\"REPOSITORY_NAME_HEADING\",\"actor_id\":null,\"record_id\":157554479,\"originating_url\":\"https://github.com/trending?spoken_language_code=en\",\"user_id\":null}}' data-hydro-click-hmac=\"a54ea2504198ae2e15632a1e959a9edc997e62c84c3867c6246abfa233fdd65b\" data-view-component=\"true\" href=\"/meshery/meshery\">\n",
       " <svg aria-hidden=\"true\" class=\"octicon octicon-repo mr-1 color-fg-muted\" data-view-component=\"true\" height=\"16\" version=\"1.1\" viewbox=\"0 0 16 16\" width=\"16\">\n",
       " <path d=\"M2 2.5A2.5 2.5 0 0 1 4.5 0h8.75a.75.75 0 0 1 .75.75v12.5a.75.75 0 0 1-.75.75h-2.5a.75.75 0 0 1 0-1.5h1.75v-2h-8a1 1 0 0 0-.714 1.7.75.75 0 1 1-1.072 1.05A2.495 2.495 0 0 1 2 11.5Zm10.5-1h-8a1 1 0 0 0-1 1v6.708A2.486 2.486 0 0 1 4.5 9h8ZM5 12.25a.25.25 0 0 1 .25-.25h3.5a.25.25 0 0 1 .25.25v3.25a.25.25 0 0 1-.4.2l-1.45-1.087a.249.249 0 0 0-.3 0L5.4 15.7a.25.25 0 0 1-.4-.2Z\"></path>\n",
       " </svg>\n",
       " <span class=\"text-normal\" data-view-component=\"true\">\n",
       "         meshery /\n",
       " </span>\n",
       "       meshery\n",
       " </a> </h2>,\n",
       " <h2 class=\"h3 lh-condensed\">\n",
       " <a class=\"Link\" data-hydro-click='{\"event_type\":\"explore.click\",\"payload\":{\"click_context\":\"TRENDING_REPOSITORIES_PAGE\",\"click_target\":\"REPOSITORY\",\"click_visual_representation\":\"REPOSITORY_NAME_HEADING\",\"actor_id\":null,\"record_id\":375111441,\"originating_url\":\"https://github.com/trending?spoken_language_code=en\",\"user_id\":null}}' data-hydro-click-hmac=\"64cd1f82e2acd241f96def041898482ab87598e471d113f01f5b517512d56ffb\" data-view-component=\"true\" href=\"/coderQuad/New-Grad-Positions\">\n",
       " <svg aria-hidden=\"true\" class=\"octicon octicon-repo mr-1 color-fg-muted\" data-view-component=\"true\" height=\"16\" version=\"1.1\" viewbox=\"0 0 16 16\" width=\"16\">\n",
       " <path d=\"M2 2.5A2.5 2.5 0 0 1 4.5 0h8.75a.75.75 0 0 1 .75.75v12.5a.75.75 0 0 1-.75.75h-2.5a.75.75 0 0 1 0-1.5h1.75v-2h-8a1 1 0 0 0-.714 1.7.75.75 0 1 1-1.072 1.05A2.495 2.495 0 0 1 2 11.5Zm10.5-1h-8a1 1 0 0 0-1 1v6.708A2.486 2.486 0 0 1 4.5 9h8ZM5 12.25a.25.25 0 0 1 .25-.25h3.5a.25.25 0 0 1 .25.25v3.25a.25.25 0 0 1-.4.2l-1.45-1.087a.249.249 0 0 0-.3 0L5.4 15.7a.25.25 0 0 1-.4-.2Z\"></path>\n",
       " </svg>\n",
       " <span class=\"text-normal\" data-view-component=\"true\">\n",
       "         coderQuad /\n",
       " </span>\n",
       "       New-Grad-Positions\n",
       " </a> </h2>,\n",
       " <h2 class=\"h3 lh-condensed\">\n",
       " <a class=\"Link\" data-hydro-click='{\"event_type\":\"explore.click\",\"payload\":{\"click_context\":\"TRENDING_REPOSITORIES_PAGE\",\"click_target\":\"REPOSITORY\",\"click_visual_representation\":\"REPOSITORY_NAME_HEADING\",\"actor_id\":null,\"record_id\":218396611,\"originating_url\":\"https://github.com/trending?spoken_language_code=en\",\"user_id\":null}}' data-hydro-click-hmac=\"8f3a92f73092f64b5fdd613110e57bea7f653a3d9770d5ac774a30dcfd6033f1\" data-view-component=\"true\" href=\"/deepjavalibrary/djl\">\n",
       " <svg aria-hidden=\"true\" class=\"octicon octicon-repo mr-1 color-fg-muted\" data-view-component=\"true\" height=\"16\" version=\"1.1\" viewbox=\"0 0 16 16\" width=\"16\">\n",
       " <path d=\"M2 2.5A2.5 2.5 0 0 1 4.5 0h8.75a.75.75 0 0 1 .75.75v12.5a.75.75 0 0 1-.75.75h-2.5a.75.75 0 0 1 0-1.5h1.75v-2h-8a1 1 0 0 0-.714 1.7.75.75 0 1 1-1.072 1.05A2.495 2.495 0 0 1 2 11.5Zm10.5-1h-8a1 1 0 0 0-1 1v6.708A2.486 2.486 0 0 1 4.5 9h8ZM5 12.25a.25.25 0 0 1 .25-.25h3.5a.25.25 0 0 1 .25.25v3.25a.25.25 0 0 1-.4.2l-1.45-1.087a.249.249 0 0 0-.3 0L5.4 15.7a.25.25 0 0 1-.4-.2Z\"></path>\n",
       " </svg>\n",
       " <span class=\"text-normal\" data-view-component=\"true\">\n",
       "         deepjavalibrary /\n",
       " </span>\n",
       "       djl\n",
       " </a> </h2>,\n",
       " <h2 class=\"h3 lh-condensed\">\n",
       " <a class=\"Link\" data-hydro-click='{\"event_type\":\"explore.click\",\"payload\":{\"click_context\":\"TRENDING_REPOSITORIES_PAGE\",\"click_target\":\"REPOSITORY\",\"click_visual_representation\":\"REPOSITORY_NAME_HEADING\",\"actor_id\":null,\"record_id\":552661142,\"originating_url\":\"https://github.com/trending?spoken_language_code=en\",\"user_id\":null}}' data-hydro-click-hmac=\"f6ce7089a0ca83c866e9f2bc71deb622afe2e0b37643a4acbd832b56fb11b9a5\" data-view-component=\"true\" href=\"/langchain-ai/langchain\">\n",
       " <svg aria-hidden=\"true\" class=\"octicon octicon-repo mr-1 color-fg-muted\" data-view-component=\"true\" height=\"16\" version=\"1.1\" viewbox=\"0 0 16 16\" width=\"16\">\n",
       " <path d=\"M2 2.5A2.5 2.5 0 0 1 4.5 0h8.75a.75.75 0 0 1 .75.75v12.5a.75.75 0 0 1-.75.75h-2.5a.75.75 0 0 1 0-1.5h1.75v-2h-8a1 1 0 0 0-.714 1.7.75.75 0 1 1-1.072 1.05A2.495 2.495 0 0 1 2 11.5Zm10.5-1h-8a1 1 0 0 0-1 1v6.708A2.486 2.486 0 0 1 4.5 9h8ZM5 12.25a.25.25 0 0 1 .25-.25h3.5a.25.25 0 0 1 .25.25v3.25a.25.25 0 0 1-.4.2l-1.45-1.087a.249.249 0 0 0-.3 0L5.4 15.7a.25.25 0 0 1-.4-.2Z\"></path>\n",
       " </svg>\n",
       " <span class=\"text-normal\" data-view-component=\"true\">\n",
       "         langchain-ai /\n",
       " </span>\n",
       "       langchain\n",
       " </a> </h2>,\n",
       " <h2 class=\"h3 lh-condensed\">\n",
       " <a class=\"Link\" data-hydro-click='{\"event_type\":\"explore.click\",\"payload\":{\"click_context\":\"TRENDING_REPOSITORIES_PAGE\",\"click_target\":\"REPOSITORY\",\"click_visual_representation\":\"REPOSITORY_NAME_HEADING\",\"actor_id\":null,\"record_id\":468576060,\"originating_url\":\"https://github.com/trending?spoken_language_code=en\",\"user_id\":null}}' data-hydro-click-hmac=\"bee3e6a04e1fd78ceccce7bfc1da357cf7fe3ac6a58f7e75499e540d801f6904\" data-view-component=\"true\" href=\"/openai/openai-cookbook\">\n",
       " <svg aria-hidden=\"true\" class=\"octicon octicon-repo mr-1 color-fg-muted\" data-view-component=\"true\" height=\"16\" version=\"1.1\" viewbox=\"0 0 16 16\" width=\"16\">\n",
       " <path d=\"M2 2.5A2.5 2.5 0 0 1 4.5 0h8.75a.75.75 0 0 1 .75.75v12.5a.75.75 0 0 1-.75.75h-2.5a.75.75 0 0 1 0-1.5h1.75v-2h-8a1 1 0 0 0-.714 1.7.75.75 0 1 1-1.072 1.05A2.495 2.495 0 0 1 2 11.5Zm10.5-1h-8a1 1 0 0 0-1 1v6.708A2.486 2.486 0 0 1 4.5 9h8ZM5 12.25a.25.25 0 0 1 .25-.25h3.5a.25.25 0 0 1 .25.25v3.25a.25.25 0 0 1-.4.2l-1.45-1.087a.249.249 0 0 0-.3 0L5.4 15.7a.25.25 0 0 1-.4-.2Z\"></path>\n",
       " </svg>\n",
       " <span class=\"text-normal\" data-view-component=\"true\">\n",
       "         openai /\n",
       " </span>\n",
       "       openai-cookbook\n",
       " </a> </h2>,\n",
       " <h2 class=\"h3 lh-condensed\">\n",
       " <a class=\"Link\" data-hydro-click='{\"event_type\":\"explore.click\",\"payload\":{\"click_context\":\"TRENDING_REPOSITORIES_PAGE\",\"click_target\":\"REPOSITORY\",\"click_visual_representation\":\"REPOSITORY_NAME_HEADING\",\"actor_id\":null,\"record_id\":136062240,\"originating_url\":\"https://github.com/trending?spoken_language_code=en\",\"user_id\":null}}' data-hydro-click-hmac=\"78229a22c9f7a76e575d84834be52e766777e410421845a8e9bff1173c35afc2\" data-view-component=\"true\" href=\"/DovAmir/awesome-design-patterns\">\n",
       " <svg aria-hidden=\"true\" class=\"octicon octicon-repo mr-1 color-fg-muted\" data-view-component=\"true\" height=\"16\" version=\"1.1\" viewbox=\"0 0 16 16\" width=\"16\">\n",
       " <path d=\"M2 2.5A2.5 2.5 0 0 1 4.5 0h8.75a.75.75 0 0 1 .75.75v12.5a.75.75 0 0 1-.75.75h-2.5a.75.75 0 0 1 0-1.5h1.75v-2h-8a1 1 0 0 0-.714 1.7.75.75 0 1 1-1.072 1.05A2.495 2.495 0 0 1 2 11.5Zm10.5-1h-8a1 1 0 0 0-1 1v6.708A2.486 2.486 0 0 1 4.5 9h8ZM5 12.25a.25.25 0 0 1 .25-.25h3.5a.25.25 0 0 1 .25.25v3.25a.25.25 0 0 1-.4.2l-1.45-1.087a.249.249 0 0 0-.3 0L5.4 15.7a.25.25 0 0 1-.4-.2Z\"></path>\n",
       " </svg>\n",
       " <span class=\"text-normal\" data-view-component=\"true\">\n",
       "         DovAmir /\n",
       " </span>\n",
       "       awesome-design-patterns\n",
       " </a> </h2>,\n",
       " <h2 class=\"h3 lh-condensed\">\n",
       " <a class=\"Link\" data-hydro-click='{\"event_type\":\"explore.click\",\"payload\":{\"click_context\":\"TRENDING_REPOSITORIES_PAGE\",\"click_target\":\"REPOSITORY\",\"click_visual_representation\":\"REPOSITORY_NAME_HEADING\",\"actor_id\":null,\"record_id\":97086543,\"originating_url\":\"https://github.com/trending?spoken_language_code=en\",\"user_id\":null}}' data-hydro-click-hmac=\"0f178170c6c71c52136d1b470b361cacb06cbbd0a22a5a2e807c5c88c04c4cfa\" data-view-component=\"true\" href=\"/TheAlgorithms/JavaScript\">\n",
       " <svg aria-hidden=\"true\" class=\"octicon octicon-repo mr-1 color-fg-muted\" data-view-component=\"true\" height=\"16\" version=\"1.1\" viewbox=\"0 0 16 16\" width=\"16\">\n",
       " <path d=\"M2 2.5A2.5 2.5 0 0 1 4.5 0h8.75a.75.75 0 0 1 .75.75v12.5a.75.75 0 0 1-.75.75h-2.5a.75.75 0 0 1 0-1.5h1.75v-2h-8a1 1 0 0 0-.714 1.7.75.75 0 1 1-1.072 1.05A2.495 2.495 0 0 1 2 11.5Zm10.5-1h-8a1 1 0 0 0-1 1v6.708A2.486 2.486 0 0 1 4.5 9h8ZM5 12.25a.25.25 0 0 1 .25-.25h3.5a.25.25 0 0 1 .25.25v3.25a.25.25 0 0 1-.4.2l-1.45-1.087a.249.249 0 0 0-.3 0L5.4 15.7a.25.25 0 0 1-.4-.2Z\"></path>\n",
       " </svg>\n",
       " <span class=\"text-normal\" data-view-component=\"true\">\n",
       "         TheAlgorithms /\n",
       " </span>\n",
       "       JavaScript\n",
       " </a> </h2>,\n",
       " <h2 class=\"h3 lh-condensed\">\n",
       " <a class=\"Link\" data-hydro-click='{\"event_type\":\"explore.click\",\"payload\":{\"click_context\":\"TRENDING_REPOSITORIES_PAGE\",\"click_target\":\"REPOSITORY\",\"click_visual_representation\":\"REPOSITORY_NAME_HEADING\",\"actor_id\":null,\"record_id\":407816268,\"originating_url\":\"https://github.com/trending?spoken_language_code=en\",\"user_id\":null}}' data-hydro-click-hmac=\"15351d081777722bd1d5ee0d305fbfc2c0e6bf7a318eeb577573f13413a439fe\" data-view-component=\"true\" href=\"/neon-nyan/Collapse\">\n",
       " <svg aria-hidden=\"true\" class=\"octicon octicon-repo mr-1 color-fg-muted\" data-view-component=\"true\" height=\"16\" version=\"1.1\" viewbox=\"0 0 16 16\" width=\"16\">\n",
       " <path d=\"M2 2.5A2.5 2.5 0 0 1 4.5 0h8.75a.75.75 0 0 1 .75.75v12.5a.75.75 0 0 1-.75.75h-2.5a.75.75 0 0 1 0-1.5h1.75v-2h-8a1 1 0 0 0-.714 1.7.75.75 0 1 1-1.072 1.05A2.495 2.495 0 0 1 2 11.5Zm10.5-1h-8a1 1 0 0 0-1 1v6.708A2.486 2.486 0 0 1 4.5 9h8ZM5 12.25a.25.25 0 0 1 .25-.25h3.5a.25.25 0 0 1 .25.25v3.25a.25.25 0 0 1-.4.2l-1.45-1.087a.249.249 0 0 0-.3 0L5.4 15.7a.25.25 0 0 1-.4-.2Z\"></path>\n",
       " </svg>\n",
       " <span class=\"text-normal\" data-view-component=\"true\">\n",
       "         neon-nyan /\n",
       " </span>\n",
       "       Collapse\n",
       " </a> </h2>,\n",
       " <h2 class=\"h3 lh-condensed\">\n",
       " <a class=\"Link\" data-hydro-click='{\"event_type\":\"explore.click\",\"payload\":{\"click_context\":\"TRENDING_REPOSITORIES_PAGE\",\"click_target\":\"REPOSITORY\",\"click_visual_representation\":\"REPOSITORY_NAME_HEADING\",\"actor_id\":null,\"record_id\":136401408,\"originating_url\":\"https://github.com/trending?spoken_language_code=en\",\"user_id\":null}}' data-hydro-click-hmac=\"19f2982ca2f6b22bfe6f46dd6e73777d6e76a07533823322c51a2cad15d4b9fa\" data-view-component=\"true\" href=\"/terraform-aws-modules/terraform-aws-eks\">\n",
       " <svg aria-hidden=\"true\" class=\"octicon octicon-repo mr-1 color-fg-muted\" data-view-component=\"true\" height=\"16\" version=\"1.1\" viewbox=\"0 0 16 16\" width=\"16\">\n",
       " <path d=\"M2 2.5A2.5 2.5 0 0 1 4.5 0h8.75a.75.75 0 0 1 .75.75v12.5a.75.75 0 0 1-.75.75h-2.5a.75.75 0 0 1 0-1.5h1.75v-2h-8a1 1 0 0 0-.714 1.7.75.75 0 1 1-1.072 1.05A2.495 2.495 0 0 1 2 11.5Zm10.5-1h-8a1 1 0 0 0-1 1v6.708A2.486 2.486 0 0 1 4.5 9h8ZM5 12.25a.25.25 0 0 1 .25-.25h3.5a.25.25 0 0 1 .25.25v3.25a.25.25 0 0 1-.4.2l-1.45-1.087a.249.249 0 0 0-.3 0L5.4 15.7a.25.25 0 0 1-.4-.2Z\"></path>\n",
       " </svg>\n",
       " <span class=\"text-normal\" data-view-component=\"true\">\n",
       "         terraform-aws-modules /\n",
       " </span>\n",
       "       terraform-aws-eks\n",
       " </a> </h2>,\n",
       " <h2 class=\"h3 lh-condensed\">\n",
       " <a class=\"Link\" data-hydro-click='{\"event_type\":\"explore.click\",\"payload\":{\"click_context\":\"TRENDING_REPOSITORIES_PAGE\",\"click_target\":\"REPOSITORY\",\"click_visual_representation\":\"REPOSITORY_NAME_HEADING\",\"actor_id\":null,\"record_id\":9524057,\"originating_url\":\"https://github.com/trending?spoken_language_code=en\",\"user_id\":null}}' data-hydro-click-hmac=\"5eb4a65bf710a6e8c3ba2fd9080dd3b35d7566427e06d1138a6c3f791ff2a06c\" data-view-component=\"true\" href=\"/prometheus/node_exporter\">\n",
       " <svg aria-hidden=\"true\" class=\"octicon octicon-repo mr-1 color-fg-muted\" data-view-component=\"true\" height=\"16\" version=\"1.1\" viewbox=\"0 0 16 16\" width=\"16\">\n",
       " <path d=\"M2 2.5A2.5 2.5 0 0 1 4.5 0h8.75a.75.75 0 0 1 .75.75v12.5a.75.75 0 0 1-.75.75h-2.5a.75.75 0 0 1 0-1.5h1.75v-2h-8a1 1 0 0 0-.714 1.7.75.75 0 1 1-1.072 1.05A2.495 2.495 0 0 1 2 11.5Zm10.5-1h-8a1 1 0 0 0-1 1v6.708A2.486 2.486 0 0 1 4.5 9h8ZM5 12.25a.25.25 0 0 1 .25-.25h3.5a.25.25 0 0 1 .25.25v3.25a.25.25 0 0 1-.4.2l-1.45-1.087a.249.249 0 0 0-.3 0L5.4 15.7a.25.25 0 0 1-.4-.2Z\"></path>\n",
       " </svg>\n",
       " <span class=\"text-normal\" data-view-component=\"true\">\n",
       "         prometheus /\n",
       " </span>\n",
       "       node_exporter\n",
       " </a> </h2>,\n",
       " <h2 class=\"h3 lh-condensed\">\n",
       " <a class=\"Link\" data-hydro-click='{\"event_type\":\"explore.click\",\"payload\":{\"click_context\":\"TRENDING_REPOSITORIES_PAGE\",\"click_target\":\"REPOSITORY\",\"click_visual_representation\":\"REPOSITORY_NAME_HEADING\",\"actor_id\":null,\"record_id\":49016322,\"originating_url\":\"https://github.com/trending?spoken_language_code=en\",\"user_id\":null}}' data-hydro-click-hmac=\"fb74bbf2035006e99120e40d69fd57d29495deb6f3b6a69e5c1f9d1c5163d4e1\" data-view-component=\"true\" href=\"/angular/components\">\n",
       " <svg aria-hidden=\"true\" class=\"octicon octicon-repo mr-1 color-fg-muted\" data-view-component=\"true\" height=\"16\" version=\"1.1\" viewbox=\"0 0 16 16\" width=\"16\">\n",
       " <path d=\"M2 2.5A2.5 2.5 0 0 1 4.5 0h8.75a.75.75 0 0 1 .75.75v12.5a.75.75 0 0 1-.75.75h-2.5a.75.75 0 0 1 0-1.5h1.75v-2h-8a1 1 0 0 0-.714 1.7.75.75 0 1 1-1.072 1.05A2.495 2.495 0 0 1 2 11.5Zm10.5-1h-8a1 1 0 0 0-1 1v6.708A2.486 2.486 0 0 1 4.5 9h8ZM5 12.25a.25.25 0 0 1 .25-.25h3.5a.25.25 0 0 1 .25.25v3.25a.25.25 0 0 1-.4.2l-1.45-1.087a.249.249 0 0 0-.3 0L5.4 15.7a.25.25 0 0 1-.4-.2Z\"></path>\n",
       " </svg>\n",
       " <span class=\"text-normal\" data-view-component=\"true\">\n",
       "         angular /\n",
       " </span>\n",
       "       components\n",
       " </a> </h2>]"
      ]
     },
     "execution_count": 68,
     "metadata": {},
     "output_type": "execute_result"
    }
   ],
   "source": [
    "# Make a soup variable holding the response content\n",
    "soup = BeautifulSoup(response.content, 'html.parser')\n",
    "# print(soup)\n",
    "soup.h3\n",
    "links = soup.find_all('h2', class_=\"h3 lh-condensed\")\n",
    "links\n"
   ]
  },
  {
   "cell_type": "code",
   "execution_count": 71,
   "id": "ba31afbd",
   "metadata": {},
   "outputs": [
    {
     "data": {
      "text/plain": [
       "'/steven2358/awesome-generative-ai'"
      ]
     },
     "execution_count": 71,
     "metadata": {},
     "output_type": "execute_result"
    }
   ],
   "source": [
    "links[0].a['href']"
   ]
  },
  {
   "cell_type": "code",
   "execution_count": 72,
   "id": "4333cd7e",
   "metadata": {},
   "outputs": [
    {
     "data": {
      "text/plain": [
       "['/steven2358/awesome-generative-ai',\n",
       " '/awesome-selfhosted/awesome-selfhosted',\n",
       " '/binhnguyennus/awesome-scalability',\n",
       " '/modelscope/modelscope',\n",
       " '/makeplane/plane',\n",
       " '/codecrafters-io/build-your-own-x',\n",
       " '/datahub-project/datahub',\n",
       " '/huggingface/transformers',\n",
       " '/EleutherAI/lm-evaluation-harness',\n",
       " '/poteto/hiring-without-whiteboards',\n",
       " '/novuhq/novu',\n",
       " '/Developer-Y/cs-video-courses',\n",
       " '/directus/directus',\n",
       " '/BlinkDL/RWKV-LM',\n",
       " '/meshery/meshery',\n",
       " '/coderQuad/New-Grad-Positions',\n",
       " '/deepjavalibrary/djl',\n",
       " '/langchain-ai/langchain',\n",
       " '/openai/openai-cookbook',\n",
       " '/DovAmir/awesome-design-patterns',\n",
       " '/TheAlgorithms/JavaScript',\n",
       " '/neon-nyan/Collapse',\n",
       " '/terraform-aws-modules/terraform-aws-eks',\n",
       " '/prometheus/node_exporter',\n",
       " '/angular/components']"
      ]
     },
     "execution_count": 72,
     "metadata": {},
     "output_type": "execute_result"
    }
   ],
   "source": [
    "[link.a['href'] for link in links]"
   ]
  },
  {
   "cell_type": "code",
   "execution_count": 76,
   "id": "07581456",
   "metadata": {},
   "outputs": [],
   "source": [
    "path_list = ['daily', 'weekly', 'monthly']"
   ]
  },
  {
   "cell_type": "code",
   "execution_count": 147,
   "id": "b7322b1f",
   "metadata": {},
   "outputs": [],
   "source": [
    "repo_urls = []\n",
    "\n",
    "for path in path_list:\n",
    "    url = f'https://github.com/trending?since={path}&spoken_language_code=en'\n",
    "    headers = {\"Authorization\": f\"token {github_token}\", \"User-Agent\": github_username}\n",
    "    response = get(url, headers=headers)\n",
    "    # Make a soup variable holding the response content\n",
    "    \n",
    "    soup = BeautifulSoup(response.content, 'html.parser')\n",
    "    # print(soup)\n",
    "    soup.h3\n",
    "    links = soup.find_all('h2', class_=\"h3 lh-condensed\")\n",
    "    \n",
    "#     links_dict = {\n",
    "#         path : [link.a['href'] for link in links]\n",
    "#     }\n",
    "    \n",
    "    \n",
    "    repo_urls += [link.a['href'] for link in links]"
   ]
  },
  {
   "cell_type": "code",
   "execution_count": 148,
   "id": "6041bd39",
   "metadata": {},
   "outputs": [
    {
     "data": {
      "text/plain": [
       "['/steven2358/awesome-generative-ai',\n",
       " '/awesome-selfhosted/awesome-selfhosted',\n",
       " '/binhnguyennus/awesome-scalability',\n",
       " '/modelscope/modelscope',\n",
       " '/makeplane/plane',\n",
       " '/codecrafters-io/build-your-own-x',\n",
       " '/datahub-project/datahub',\n",
       " '/huggingface/transformers',\n",
       " '/EleutherAI/lm-evaluation-harness',\n",
       " '/poteto/hiring-without-whiteboards',\n",
       " '/novuhq/novu',\n",
       " '/Developer-Y/cs-video-courses',\n",
       " '/directus/directus',\n",
       " '/BlinkDL/RWKV-LM',\n",
       " '/meshery/meshery',\n",
       " '/coderQuad/New-Grad-Positions',\n",
       " '/deepjavalibrary/djl',\n",
       " '/langchain-ai/langchain',\n",
       " '/openai/openai-cookbook',\n",
       " '/DovAmir/awesome-design-patterns',\n",
       " '/TheAlgorithms/JavaScript',\n",
       " '/neon-nyan/Collapse',\n",
       " '/terraform-aws-modules/terraform-aws-eks',\n",
       " '/prometheus/node_exporter',\n",
       " '/angular/components',\n",
       " '/yt-dlp/yt-dlp',\n",
       " '/moq/moq',\n",
       " '/codecrafters-io/build-your-own-x',\n",
       " '/sei-protocol/sei-chain',\n",
       " '/SimplifyJobs/Summer2024-Internships',\n",
       " '/microsoft/Web-Dev-For-Beginners',\n",
       " '/binhnguyennus/awesome-scalability',\n",
       " '/steven2358/awesome-generative-ai',\n",
       " '/Z4nzu/hackingtool',\n",
       " '/Infisical/infisical',\n",
       " '/immich-app/immich',\n",
       " '/elebumm/RedditVideoMakerBot',\n",
       " '/awesome-selfhosted/awesome-selfhosted',\n",
       " '/bnb-chain/bsc',\n",
       " '/poteto/hiring-without-whiteboards',\n",
       " '/openai/openai-cookbook',\n",
       " '/supabase/supabase',\n",
       " '/modelscope/modelscope',\n",
       " '/elsa-workflows/elsa-core',\n",
       " '/projectdiscovery/katana',\n",
       " '/taikoxyz/taiko-mono',\n",
       " '/juanfont/headscale',\n",
       " '/ReVanced/revanced-manager',\n",
       " '/gravitl/netmaker',\n",
       " '/TheAlgorithms/JavaScript',\n",
       " '/DioxusLabs/dioxus',\n",
       " '/invoke-ai/InvokeAI',\n",
       " '/reflex-dev/reflex',\n",
       " '/modelscope/modelscope',\n",
       " '/huggingface/text-generation-inference',\n",
       " '/codecrafters-io/build-your-own-x',\n",
       " '/SeleniumHQ/selenium',\n",
       " '/hyprwm/Hyprland',\n",
       " '/bmaltais/kohya_ss',\n",
       " '/novuhq/novu',\n",
       " '/Dao-AILab/flash-attention',\n",
       " '/trekhleb/javascript-algorithms',\n",
       " '/jesseduffield/lazygit',\n",
       " '/ReVanced/revanced-manager',\n",
       " '/microsoft/Web-Dev-For-Beginners',\n",
       " '/khoj-ai/khoj',\n",
       " '/Z4nzu/hackingtool',\n",
       " '/binhnguyennus/awesome-scalability',\n",
       " '/skypilot-org/skypilot',\n",
       " '/FuelLabs/fuels-ts',\n",
       " '/supabase/supabase',\n",
       " '/steven2358/awesome-generative-ai',\n",
       " '/Infisical/infisical',\n",
       " '/simplex-chat/simplex-chat',\n",
       " '/kuchin/awesome-cto']"
      ]
     },
     "execution_count": 148,
     "metadata": {},
     "output_type": "execute_result"
    }
   ],
   "source": [
    "repo_urls"
   ]
  },
  {
   "cell_type": "code",
   "execution_count": 193,
   "id": "c82b5fd9",
   "metadata": {},
   "outputs": [],
   "source": [
    "url_df = pd.DataFrame(repo_urls)"
   ]
  },
  {
   "cell_type": "code",
   "execution_count": 194,
   "id": "0ae6c1d0",
   "metadata": {},
   "outputs": [
    {
     "data": {
      "text/html": [
       "<div>\n",
       "<style scoped>\n",
       "    .dataframe tbody tr th:only-of-type {\n",
       "        vertical-align: middle;\n",
       "    }\n",
       "\n",
       "    .dataframe tbody tr th {\n",
       "        vertical-align: top;\n",
       "    }\n",
       "\n",
       "    .dataframe thead th {\n",
       "        text-align: right;\n",
       "    }\n",
       "</style>\n",
       "<table border=\"1\" class=\"dataframe\">\n",
       "  <thead>\n",
       "    <tr style=\"text-align: right;\">\n",
       "      <th></th>\n",
       "      <th>0</th>\n",
       "    </tr>\n",
       "  </thead>\n",
       "  <tbody>\n",
       "    <tr>\n",
       "      <th>0</th>\n",
       "      <td>/steven2358/awesome-generative-ai</td>\n",
       "    </tr>\n",
       "    <tr>\n",
       "      <th>1</th>\n",
       "      <td>/awesome-selfhosted/awesome-selfhosted</td>\n",
       "    </tr>\n",
       "    <tr>\n",
       "      <th>2</th>\n",
       "      <td>/binhnguyennus/awesome-scalability</td>\n",
       "    </tr>\n",
       "    <tr>\n",
       "      <th>3</th>\n",
       "      <td>/modelscope/modelscope</td>\n",
       "    </tr>\n",
       "    <tr>\n",
       "      <th>4</th>\n",
       "      <td>/makeplane/plane</td>\n",
       "    </tr>\n",
       "  </tbody>\n",
       "</table>\n",
       "</div>"
      ],
      "text/plain": [
       "                                        0\n",
       "0       /steven2358/awesome-generative-ai\n",
       "1  /awesome-selfhosted/awesome-selfhosted\n",
       "2      /binhnguyennus/awesome-scalability\n",
       "3                  /modelscope/modelscope\n",
       "4                        /makeplane/plane"
      ]
     },
     "execution_count": 194,
     "metadata": {},
     "output_type": "execute_result"
    }
   ],
   "source": [
    "url_df.head()\n"
   ]
  },
  {
   "cell_type": "code",
   "execution_count": 195,
   "id": "b083ec8a",
   "metadata": {},
   "outputs": [],
   "source": [
    "url_df.drop_duplicates(inplace=True)\n"
   ]
  },
  {
   "cell_type": "code",
   "execution_count": 196,
   "id": "6f41c8eb",
   "metadata": {},
   "outputs": [
    {
     "data": {
      "text/plain": [
       "57"
      ]
     },
     "execution_count": 196,
     "metadata": {},
     "output_type": "execute_result"
    }
   ],
   "source": [
    "len(url_df)"
   ]
  },
  {
   "cell_type": "code",
   "execution_count": 199,
   "id": "a27a66d0",
   "metadata": {},
   "outputs": [
    {
     "data": {
      "text/plain": [
       "['/steven2358/awesome-generative-ai',\n",
       " '/awesome-selfhosted/awesome-selfhosted',\n",
       " '/binhnguyennus/awesome-scalability',\n",
       " '/modelscope/modelscope',\n",
       " '/makeplane/plane',\n",
       " '/codecrafters-io/build-your-own-x',\n",
       " '/datahub-project/datahub',\n",
       " '/huggingface/transformers',\n",
       " '/EleutherAI/lm-evaluation-harness',\n",
       " '/poteto/hiring-without-whiteboards',\n",
       " '/novuhq/novu',\n",
       " '/Developer-Y/cs-video-courses',\n",
       " '/directus/directus',\n",
       " '/BlinkDL/RWKV-LM',\n",
       " '/meshery/meshery',\n",
       " '/coderQuad/New-Grad-Positions',\n",
       " '/deepjavalibrary/djl',\n",
       " '/langchain-ai/langchain',\n",
       " '/openai/openai-cookbook',\n",
       " '/DovAmir/awesome-design-patterns',\n",
       " '/TheAlgorithms/JavaScript',\n",
       " '/neon-nyan/Collapse',\n",
       " '/terraform-aws-modules/terraform-aws-eks',\n",
       " '/prometheus/node_exporter',\n",
       " '/angular/components',\n",
       " '/yt-dlp/yt-dlp',\n",
       " '/moq/moq',\n",
       " '/sei-protocol/sei-chain',\n",
       " '/SimplifyJobs/Summer2024-Internships',\n",
       " '/microsoft/Web-Dev-For-Beginners',\n",
       " '/Z4nzu/hackingtool',\n",
       " '/Infisical/infisical',\n",
       " '/immich-app/immich',\n",
       " '/elebumm/RedditVideoMakerBot',\n",
       " '/bnb-chain/bsc',\n",
       " '/supabase/supabase',\n",
       " '/elsa-workflows/elsa-core',\n",
       " '/projectdiscovery/katana',\n",
       " '/taikoxyz/taiko-mono',\n",
       " '/juanfont/headscale',\n",
       " '/ReVanced/revanced-manager',\n",
       " '/gravitl/netmaker',\n",
       " '/DioxusLabs/dioxus',\n",
       " '/invoke-ai/InvokeAI',\n",
       " '/reflex-dev/reflex',\n",
       " '/huggingface/text-generation-inference',\n",
       " '/SeleniumHQ/selenium',\n",
       " '/hyprwm/Hyprland',\n",
       " '/bmaltais/kohya_ss',\n",
       " '/Dao-AILab/flash-attention',\n",
       " '/trekhleb/javascript-algorithms',\n",
       " '/jesseduffield/lazygit',\n",
       " '/khoj-ai/khoj',\n",
       " '/skypilot-org/skypilot',\n",
       " '/FuelLabs/fuels-ts',\n",
       " '/simplex-chat/simplex-chat',\n",
       " '/kuchin/awesome-cto']"
      ]
     },
     "execution_count": 199,
     "metadata": {},
     "output_type": "execute_result"
    }
   ],
   "source": [
    "url_df[0].to_list()"
   ]
  },
  {
   "cell_type": "code",
   "execution_count": 200,
   "id": "ed0eccd6",
   "metadata": {},
   "outputs": [],
   "source": [
    "url = 'https://github.com/search?q=stars%3A%3E0&s=stars&type=Repositories'\n",
    "headers = {\"Authorization\": f\"token {github_token}\", \"User-Agent\": github_username}\n",
    "response = get(url, headers=headers)\n"
   ]
  },
  {
   "cell_type": "code",
   "execution_count": 212,
   "id": "f2744e3a",
   "metadata": {},
   "outputs": [
    {
     "data": {
      "text/plain": [
       "{\"payload\":{\"header_redesign_enabled\":false,\"results\":[{\"id\":\"13687210\",\"archived\":false,\"color\":\"#f1e05a\",\"followers\":1226,\"has_funding_file\":false,\"hl_name\":\"robrich/orchestrator\",\"hl_trunc_description\":\"A module for sequencing and executing tasks and dependencies in maximum concurrency\",\"language\":\"JavaScript\",\"mirror\":false,\"owned_by_organization\":false,\"public\":true,\"repo\":{\"repository\":{\"id\":13687210,\"name\":\"orchestrator\",\"owner_id\":664956,\"owner_login\":\"robrich\",\"updated_at\":\"2020-12-18T23:27:49.493Z\",\"has_issues\":true}},\"sponsorable\":false,\"topics\":[],\"type\":\"Public\",\"help_wanted_issues_count\":0,\"good_first_issue_issues_count\":0,\"starred_by_current_user\":false},{\"id\":\"716806\",\"archived\":true,\"color\":\"#701516\",\"followers\":1005,\"has_funding_file\":false,\"hl_name\":\"paulelliott/fabrication\",\"hl_trunc_description\":\"This project has moved to GitLab! Please check there for the latest updates.\",\"language\":\"Ruby\",\"mirror\":false,\"owned_by_organization\":false,\"public\":true,\"repo\":{\"repository\":{\"id\":716806,\"name\":\"fabrication\",\"owner_id\":58612,\"owner_login\":\"paulelliott\",\"updated_at\":\"2021-03-15T14:09:11.299Z\",\"has_issues\":true}},\"sponsorable\":false,\"topics\":[\"ruby\",\"testing\",\"activerecord\",\"mongoid\",\"rspec\",\"cucumber\",\"sequel\",\"datamapper\"],\"type\":\"Public archive\",\"help_wanted_issues_count\":0,\"good_first_issue_issues_count\":0,\"starred_by_current_user\":false},{\"id\":\"14910179\",\"archived\":false,\"color\":\"#f1e05a\",\"followers\":763,\"has_funding_file\":false,\"hl_name\":\"jackfranklin/gulp-load-plugins\",\"hl_trunc_description\":\"Automatically load in gulp plugins\",\"language\":\"JavaScript\",\"mirror\":false,\"owned_by_organization\":false,\"public\":true,\"repo\":{\"repository\":{\"id\":14910179,\"name\":\"gulp-load-plugins\",\"owner_id\":193238,\"owner_login\":\"jackfranklin\",\"updated_at\":\"2023-01-07T20:54:53.541Z\",\"has_issues\":true}},\"sponsorable\":false,\"topics\":[],\"type\":\"Public\",\"help_wanted_issues_count\":0,\"good_first_issue_issues_count\":0,\"starred_by_current_user\":false},{\"id\":\"11844786\",\"archived\":true,\"color\":\"#4F5D95\",\"followers\":712,\"has_funding_file\":false,\"hl_name\":\"wardrobecms/wardrobe-archived\",\"hl_trunc_description\":\"A minimal blogging application\",\"language\":\"PHP\",\"mirror\":false,\"owned_by_organization\":true,\"public\":true,\"repo\":{\"repository\":{\"id\":11844786,\"name\":\"wardrobe-archived\",\"owner_id\":4732148,\"owner_login\":\"wardrobecms\",\"updated_at\":\"2014-07-23T12:31:58.340Z\",\"has_issues\":true}},\"sponsorable\":false,\"topics\":[],\"type\":\"Public archive\",\"help_wanted_issues_count\":0,\"good_first_issue_issues_count\":0,\"starred_by_current_user\":false},{\"id\":\"5131769\",\"archived\":false,\"color\":\"#438eff\",\"followers\":701,\"has_funding_file\":false,\"hl_name\":\"eklipse2k8/FilterKit\",\"hl_trunc_description\":\"iOS Framework for easily adding Camera with Filters\",\"language\":\"Objective-C\",\"mirror\":false,\"owned_by_organization\":false,\"public\":true,\"repo\":{\"repository\":{\"id\":5131769,\"name\":\"FilterKit\",\"owner_id\":40286,\"owner_login\":\"eklipse2k8\",\"updated_at\":\"2012-07-23T21:39:31.000Z\",\"has_issues\":true}},\"sponsorable\":false,\"topics\":[],\"type\":\"Public\",\"help_wanted_issues_count\":0,\"good_first_issue_issues_count\":0,\"starred_by_current_user\":false},{\"id\":\"1359757\",\"archived\":true,\"color\":\"#701516\",\"followers\":690,\"has_funding_file\":false,\"hl_name\":\"SchemaPlus/schema_plus\",\"hl_trunc_description\":\"SchemaPlus provides a collection of enhancements and extensions to ActiveRecord\",\"language\":\"Ruby\",\"mirror\":false,\"owned_by_organization\":true,\"public\":true,\"repo\":{\"repository\":{\"id\":1359757,\"name\":\"schema_plus\",\"owner_id\":614848,\"owner_login\":\"SchemaPlus\",\"updated_at\":\"2022-05-13T15:56:06.729Z\",\"has_issues\":true}},\"sponsorable\":false,\"topics\":[],\"type\":\"Public archive\",\"help_wanted_issues_count\":0,\"good_first_issue_issues_count\":0,\"starred_by_current_user\":false},{\"id\":\"12243665\",\"archived\":false,\"color\":\"#f1e05a\",\"followers\":684,\"has_funding_file\":false,\"hl_name\":\"hayageek/jquery-upload-file\",\"hl_trunc_description\":\"jQuery Upload File plugin provides Multiple file Uploads with progress bar.Works with any server-side platform (Google App Engine, PHP, P…\",\"language\":\"JavaScript\",\"mirror\":false,\"owned_by_organization\":false,\"public\":true,\"repo\":{\"repository\":{\"id\":12243665,\"name\":\"jquery-upload-file\",\"owner_id\":2642670,\"owner_login\":\"hayageek\",\"updated_at\":\"2021-10-10T09:24:37.854Z\",\"has_issues\":true}},\"sponsorable\":false,\"topics\":[\"jquery-plugin\",\"javascript\",\"jquery-upload\"],\"type\":\"Public\",\"help_wanted_issues_count\":0,\"good_first_issue_issues_count\":0,\"starred_by_current_user\":false},{\"id\":\"1453774\",\"archived\":false,\"color\":\"#701516\",\"followers\":681,\"has_funding_file\":false,\"hl_name\":\"winton/stasis\",\"hl_trunc_description\":\"Static sites made powerful\",\"language\":\"Ruby\",\"mirror\":false,\"owned_by_organization\":false,\"public\":true,\"repo\":{\"repository\":{\"id\":1453774,\"name\":\"stasis\",\"owner_id\":5301,\"owner_login\":\"winton\",\"updated_at\":\"2018-01-29T01:59:36.620Z\",\"has_issues\":true}},\"sponsorable\":false,\"topics\":[],\"type\":\"Public\",\"help_wanted_issues_count\":0,\"good_first_issue_issues_count\":0,\"starred_by_current_user\":false},{\"id\":\"14323963\",\"archived\":false,\"color\":\"#b07219\",\"followers\":674,\"has_funding_file\":false,\"hl_name\":\"ym6745476/andbase\",\"hl_trunc_description\":\"andbase快速开发框架<a class='\\\"user-mention\\\"' data-hovercard-type='\\\"user\\\"' data-hovercard-url='\\\"/users/deprecated/hovercard\\\"' data-octo-click='\\\"hovercard-link-click\\\"' data-octo-dimensions='\\\"link_type:self\\\"' href='\\\"https://github.com/deprecated\\\"'>@deprecated</a>\\n\",\"language\":\"Java\",\"mirror\":false,\"owned_by_organization\":false,\"public\":true,\"repo\":{\"repository\":{\"id\":14323963,\"name\":\"andbase\",\"owner_id\":907079,\"owner_login\":\"ym6745476\",\"updated_at\":\"2021-05-22T03:23:24.033Z\",\"has_issues\":true}},\"sponsorable\":false,\"topics\":[],\"type\":\"Public\",\"help_wanted_issues_count\":0,\"good_first_issue_issues_count\":0,\"starred_by_current_user\":false},{\"id\":\"8069402\",\"archived\":false,\"color\":\"#89e051\",\"followers\":664,\"has_funding_file\":false,\"hl_name\":\"arnoo/git-deliver\",\"hl_trunc_description\":\"Delivery system based on git push and ssh\",\"language\":\"Shell\",\"mirror\":false,\"owned_by_organization\":false,\"public\":true,\"repo\":{\"repository\":{\"id\":8069402,\"name\":\"git-deliver\",\"owner_id\":185428,\"owner_login\":\"arnoo\",\"updated_at\":\"2017-08-03T09:09:35.591Z\",\"has_issues\":true}},\"sponsorable\":false,\"topics\":[],\"type\":\"Public\",\"help_wanted_issues_count\":0,\"good_first_issue_issues_count\":0,\"starred_by_current_user\":false}],\"type\":\"repositories\",\"page\":1,\"page_count\":100,\"elapsed_millis\":572,\"errors\":[],\"result_count\":10083023,\"facets\":[{\"kind\":\"FACET_KIND_LANGUAGE\",\"entries\":[{\"name\":\"JavaScript\",\"language_color\":\"#f1e05a\",\"query\":\"language:JavaScript\"},{\"name\":\"Python\",\"language_color\":\"#3572A5\",\"query\":\"language:Python\"},{\"name\":\"Java\",\"language_color\":\"#b07219\",\"query\":\"language:Java\"},{\"name\":\"HTML\",\"language_color\":\"#e34c26\",\"query\":\"language:HTML\"},{\"name\":\"PHP\",\"language_color\":\"#4F5D95\",\"query\":\"language:PHP\"},{\"name\":\"C++\",\"language_color\":\"#f34b7d\",\"query\":\"language:C++\"},{\"name\":\"C#\",\"language_color\":\"#178600\",\"query\":\"language:C#\"},{\"name\":\"Ruby\",\"language_color\":\"#701516\",\"query\":\"language:Ruby\"},{\"name\":\"Jupyter Notebook\",\"language_color\":\"#DA5B0B\",\"query\":\"language:Jupyter Notebook\"},{\"name\":\"C\",\"language_color\":\"#555555\",\"query\":\"language:C\"}]}],\"protected_org_logins\":[],\"topics\":null,\"query_id\":\"\",\"logged_in\":false,\"sign_up_path\":\"/signup?source=code_search_results\",\"sign_in_path\":\"/login?return_to=https%3A%2F%2Fgithub.com%2Fsearch%3Fq%3Dstars%253A%253E0%26s%3Dstars%26type%3DRepositories\",\"csrf_tokens\":{\"/robrich/orchestrator/star\":{\"post\":\"NK-Hjci7iUU502oL2AjxOczZROj2d_AeixwXnWQxOOAlzoQ6PIHS0j22Zxws7vcCBwK7HVDhYTHCSYRtIR_Dig\"},\"/robrich/orchestrator/unstar\":{\"post\":\"cUQRPJrKQSHeVgl7YARpVtuxOkYcsfyCOopKp_BUzUQ5rt5ry0Wojq2Gy8tJA08dOUEdniMR_ARf75g2o4hx5A\"},\"/paulelliott/fabrication/star\":{\"post\":\"ZZonrNHr9MHfJOY_1tqTBaZuG0bpz3YEwyURhe3y0VVnIFiQoe6U65UyagWkzq7HLIwGsfGssyRilc9ax4js1g\"},\"/paulelliott/fabrication/unstar\":{\"post\":\"2_raVslitW7OncNgGuOxf8VuC1ZTW9MC8IjQFsvkHp3RUajRIHmtgKTd5o39RtKhEW0sF6zCv1WBNxnKdRTKGA\"},\"/jackfranklin/gulp-load-plugins/star\":{\"post\":\"BMn8yYyWwNRJ0RFyISO7g7YnFtNgjBkNchYuV4-GlAqhcUM1qyDqQHjfTxTq7R6sZaWzZkGi7Piql_cN3Voy-Q\"},\"/jackfranklin/gulp-load-plugins/unstar\":{\"post\":\"9FApwWOGHAMCBrbXeYr84XtwlleKbu0sZECRZPMJ1Rcko0vn2BvHZZetuQo4MRM1vro6JlzqmNK8EDINx2nJjw\"},\"/wardrobecms/wardrobe-archived/star\":{\"post\":\"94SlGgaWtNfVnIf7S0i4pJ70lifQJYsKF4XKm2zbC1gKakuFYs5DTUO0kxk0POyZn0ln0SAvCjmbQBkSXW5DyQ\"},\"/wardrobecms/wardrobe-archived/unstar\":{\"post\":\"xjRAez0YEKSBCWme72FwRbMkRGK3P1FNEdtVPJmJtiyLZMxtRtRoYHIc49sbQfCdgGVKJhdP0i8gyRt4D0xcSA\"},\"/eklipse2k8/FilterKit/star\":{\"post\":\"-UkeeNYCvjqwnCtf4Pm4Ny9vEJVfmnsaXLTftAMYwjj7ZJcV_Vg8_24H2yV7IzU4VGojebxIh0Q1t5yzqwQ3Qg\"},\"/eklipse2k8/FilterKit/unstar\":{\"post\":\"N5QB42ePI3VHYnoSFJ4_eCPj6FgNdkgAAmtcPzEf5qG9PA_b-slXHzPn3C0PT1KHBC8jTpTk80QbwUr1gh6qqw\"},\"/SchemaPlus/schema_plus/star\":{\"post\":\"03UfO-SDFVVvWfSoFpdL8TANKHXSgxQ9xGx9jrzdQW1qvqqoTfsUn9HvtTl9kGBsinNgywlzWZeo1nm4amXVkA\"},\"/SchemaPlus/schema_plus/unstar\":{\"post\":\"MKxMjb86R0heOtQV5XBEtSvXO2AkGc75fGbjYsPcBpfdk9td1ivNavovLPxv1seZin2RISbs7R21IEtR0Qd23A\"},\"/hayageek/jquery-upload-file/star\":{\"post\":\"ptL3M4pWTi64hZdxhgJox5wEdOrbSiu5-vU5xQdZlYHS0FHtCz20HrW8MMMvlcZi1o_Z2SIEMwxkPq4adI_xBg\"},\"/hayageek/jquery-upload-file/unstar\":{\"post\":\"EVEF5dghQa3ZSRmmSl7T-A5fj1k4yisXqahwSSqLQU_rW9twe5-FYbfjAu7FW3xHwfDOnNc4YpDcmhFZdfjCbQ\"},\"/winton/stasis/star\":{\"post\":\"32zCox-IQd02Yv4jt_vkSJktVV4iRDxjREUkFLKArPA1pQs7cwooEvxl75ApPfwMK23mUehagNi-c3hDb5VGoA\"},\"/winton/stasis/unstar\":{\"post\":\"zEse4F9DSoXff0jW0KDGY3VHCaOAiQc1kM9yDUhw8Rm_qB9Kw9IeFuml9IegdD_Sagc81l-C96tZY8LQbuXCHg\"},\"/ym6745476/andbase/star\":{\"post\":\"aRNq7cvvYjt_NMEe9_KTDPOdG486R2K24EzuF3LVas_DNtQuJooiOIJSB6zIDdT_Mzm9X7BjQFnL-TlFQWOjfQ\"},\"/ym6745476/andbase/unstar\":{\"post\":\"w123BvoNJKeupnGQSnERUXuQ4zeIZUB1GK9ZQcdmnKZUszYgUJhorBG-dkRLeeoYWNbiHMvYrSgpvn_63cfZlw\"},\"/arnoo/git-deliver/star\":{\"post\":\"x69LWApzAulRDMT_tHR40RS6fdaVk3av-Eu4KdP1XUvbZfGkRHlC7dFuckzoXPNz1lOC3Qr1a730MF17tQJk_g\"},\"/arnoo/git-deliver/unstar\":{\"post\":\"yrXsdLRVFiTCDK8kBsrqd2pAkOEMDO207EUraP4QzDVC4jD5cekzlpR3t_anNhNJIxEUO6gGa5xuwD58e3Xwdg\"},\"/sponsors/batch_deferred_sponsor_buttons\":{\"post\":\"802IytGLDF_14NvL2pZHLi2pE0LkEK1SH2ZuhrGHPclFcEQil7BwTArHiCbZR3Pdpx3q1nBMmP9FevIbitAWXw\"}}},\"title\":\"Repository search results\"}"
      ]
     },
     "execution_count": 212,
     "metadata": {},
     "output_type": "execute_result"
    }
   ],
   "source": [
    "# Make a soup variable holding the response content\n",
    "soup = BeautifulSoup(response.content, 'html.parser')\n",
    "# print(soup)\n",
    "soup\n",
    "# links = soup.find_all('div', class_=\"Box-sc-g0xbh4-0 bBwPjs search-title\")\n",
    "# links"
   ]
  },
  {
   "cell_type": "code",
   "execution_count": 208,
   "id": "0431b7f3",
   "metadata": {},
   "outputs": [
    {
     "ename": "KeyError",
     "evalue": "'payload'",
     "output_type": "error",
     "traceback": [
      "\u001b[0;31m---------------------------------------------------------------------------\u001b[0m",
      "\u001b[0;31mKeyError\u001b[0m                                  Traceback (most recent call last)",
      "Cell \u001b[0;32mIn[208], line 8\u001b[0m\n\u001b[1;32m      5\u001b[0m rows \u001b[38;5;241m=\u001b[39m []\n\u001b[1;32m      7\u001b[0m \u001b[38;5;66;03m# Iterate through each dictionary in the 'results' list\u001b[39;00m\n\u001b[0;32m----> 8\u001b[0m \u001b[38;5;28;01mfor\u001b[39;00m result \u001b[38;5;129;01min\u001b[39;00m \u001b[43msoup\u001b[49m\u001b[43m[\u001b[49m\u001b[38;5;124;43m\"\u001b[39;49m\u001b[38;5;124;43mpayload\u001b[39;49m\u001b[38;5;124;43m\"\u001b[39;49m\u001b[43m]\u001b[49m[\u001b[38;5;124m\"\u001b[39m\u001b[38;5;124mresults\u001b[39m\u001b[38;5;124m\"\u001b[39m]:\n\u001b[1;32m      9\u001b[0m     rows\u001b[38;5;241m.\u001b[39mappend(result)  \u001b[38;5;66;03m# Append each dictionary to the list\u001b[39;00m\n\u001b[1;32m     11\u001b[0m \u001b[38;5;66;03m# Create a DataFrame from the list of dictionaries\u001b[39;00m\n",
      "File \u001b[0;32m/opt/homebrew/anaconda3/lib/python3.10/site-packages/bs4/element.py:1519\u001b[0m, in \u001b[0;36mTag.__getitem__\u001b[0;34m(self, key)\u001b[0m\n\u001b[1;32m   1516\u001b[0m \u001b[38;5;28;01mdef\u001b[39;00m \u001b[38;5;21m__getitem__\u001b[39m(\u001b[38;5;28mself\u001b[39m, key):\n\u001b[1;32m   1517\u001b[0m     \u001b[38;5;124;03m\"\"\"tag[key] returns the value of the 'key' attribute for the Tag,\u001b[39;00m\n\u001b[1;32m   1518\u001b[0m \u001b[38;5;124;03m    and throws an exception if it's not there.\"\"\"\u001b[39;00m\n\u001b[0;32m-> 1519\u001b[0m     \u001b[38;5;28;01mreturn\u001b[39;00m \u001b[38;5;28;43mself\u001b[39;49m\u001b[38;5;241;43m.\u001b[39;49m\u001b[43mattrs\u001b[49m\u001b[43m[\u001b[49m\u001b[43mkey\u001b[49m\u001b[43m]\u001b[49m\n",
      "\u001b[0;31mKeyError\u001b[0m: 'payload'"
     ]
    }
   ],
   "source": [
    "import pandas as pd\n",
    "\n",
    "\n",
    "# Create an empty list to store rows\n",
    "rows = []\n",
    "\n",
    "# Iterate through each dictionary in the 'results' list\n",
    "for result in soup[\"payload\"][\"results\"]:\n",
    "    rows.append(result)  # Append each dictionary to the list\n",
    "\n",
    "# Create a DataFrame from the list of dictionaries\n",
    "df = pd.DataFrame(rows)\n",
    "\n",
    "# Display the DataFrame\n",
    "print(df)\n"
   ]
  },
  {
   "cell_type": "code",
   "execution_count": null,
   "id": "cecb00f3",
   "metadata": {},
   "outputs": [],
   "source": [
    "# df['your_column_here'] = df['your_column_here'].apply(lambda string: remove_stopwords(tokenize(basic_clean(string))))\n",
    "# df.head()"
   ]
  }
 ],
 "metadata": {
  "kernelspec": {
   "display_name": "Python 3 (ipykernel)",
   "language": "python",
   "name": "python3"
  },
  "language_info": {
   "codemirror_mode": {
    "name": "ipython",
    "version": 3
   },
   "file_extension": ".py",
   "mimetype": "text/x-python",
   "name": "python",
   "nbconvert_exporter": "python",
   "pygments_lexer": "ipython3",
   "version": "3.10.9"
  }
 },
 "nbformat": 4,
 "nbformat_minor": 5
}
